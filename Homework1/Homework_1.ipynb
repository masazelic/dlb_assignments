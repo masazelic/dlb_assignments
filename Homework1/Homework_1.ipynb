{
 "cells": [
  {
   "cell_type": "markdown",
   "metadata": {
    "id": "GGZawn6zjw8B"
   },
   "source": [
    "# Homework 1 - Marija Zelic, 371272\n",
    "\n",
    "In this homework, we're going to build a neural network without using deep learning packages.\n",
    "\n",
    "Specifically, we're going to build a neural network that annotate cells to cell types in the Pancreas tissue. To do so, we'll need a few building blocks:\n",
    "- Fully-connected layer, $f(X)=X \\cdot W + \\vec{b}$\n",
    "- Nonlinearity layer (ReLU in this homework)\n",
    "- Loss function (Cross-entropy in this homework)\n",
    "- Backprop algorithm - a stochastic gradient descent with backpropageted gradients\n",
    "\n",
    "Reference: \n",
    "- https://github.com/yandexdataschool/Practical_DL/tree/fall23\n",
    "- https://github.com/theislab/scarches-reproducibility"
   ]
  },
  {
   "cell_type": "code",
   "execution_count": 1,
   "metadata": {
    "colab": {
     "base_uri": "https://localhost:8080/"
    },
    "id": "U_M_6S9Ujw8C",
    "outputId": "173ca758-099b-4fc0-9056-dd5717d38034",
    "tags": []
   },
   "outputs": [],
   "source": [
    "import numpy as np\n",
    "np.random.seed(0)"
   ]
  },
  {
   "cell_type": "markdown",
   "metadata": {
    "id": "jF1dyLBTjw8D"
   },
   "source": [
    "## 0. Create the Parent Class 'Layer' (0 pt)\n",
    "\n",
    "As we learned in the lecture, we need layers that can do both forward pass and backward pass. Here we define the parent class of all layers."
   ]
  },
  {
   "cell_type": "code",
   "execution_count": 2,
   "metadata": {
    "id": "fQv1zgRUjw8D",
    "tags": []
   },
   "outputs": [],
   "source": [
    "class Layer:\n",
    "\n",
    "    \"\"\"\n",
    "    Each layer performs two things:\n",
    "    1. Forward pass: Process input to get output: output = layer.forward(input)\n",
    "    2. Backward pass: Back-propagate gradients through itself: grad_input = layer.backward(input, grad_output)\n",
    "\n",
    "    The layers that contain learnable parameters also update their parameters during layer.backward.\n",
    "    \"\"\"\n",
    "\n",
    "    def __init__(self):\n",
    "        \"\"\"\n",
    "        Initialize layer parameters.\n",
    "        \"\"\"\n",
    "\n",
    "        # Here we use a dummy layer that does nothing.\n",
    "        pass\n",
    "\n",
    "    def forward(self, input):\n",
    "        \"\"\"\n",
    "        Takes input data of shape [batch, input_dims], returns output data [batch, output_dims]\n",
    "        \"\"\"\n",
    "\n",
    "        # Here we use a dummy layer that returns the input.\n",
    "        return input\n",
    "\n",
    "    def backward(self, input, grad_output):\n",
    "        \"\"\"\n",
    "        Performs a backpropagation step through the layer.\n",
    "\n",
    "        We need to apply the chain rule to compute the gradients of the input x:\n",
    "        d loss / d x  = (d loss / d layer) * (d layer / d x)\n",
    "\n",
    "        Grad_output provides us d loss / d layer, so we only need to multiply it by d layer / d x.\n",
    "\n",
    "        Note that if the layer has trainable parameters, we also need to update them using d loss / d layer.\n",
    "        \"\"\"\n",
    "\n",
    "        # The gradient of a dummy layer is grad_output\n",
    "        return grad_output"
   ]
  },
  {
   "cell_type": "markdown",
   "metadata": {
    "id": "U3Q_CChKjw8E"
   },
   "source": [
    "## 1. Build layers\n",
    "\n",
    "We will shortly introduce our dataset's structure in this section, and it should be enough to complete the functions in this section. However, if you find knowing the dataset structure is super helpful to implement the functions of this section, *you can jump to Section 2* and check the dataset structure before going through this section.\n",
    "\n",
    "### 1.1. Nonlinearity layer - ReLU (1 pt) \n",
    "\n",
    "We start from the simplest layer: nonlinearity layer. It simply applies a nonlinearity to each element of your network and it contains no trainable parameter.\n",
    "\n",
    "Here we implement ReLU. \n",
    "\n",
    "Check this link to review ReLU if needed: https://www.v7labs.com/blog/neural-networks-activation-functions"
   ]
  },
  {
   "cell_type": "code",
   "execution_count": 3,
   "metadata": {
    "id": "Sj5NNWB9jw8E",
    "tags": []
   },
   "outputs": [],
   "source": [
    "class ReLU(Layer):\n",
    "    def __init__(self):\n",
    "        \"\"\"\n",
    "        ReLU layer applies elementwise rectified linear to the elements in the inputs.\n",
    "        There is nothing to initialize in this simple implementation.\n",
    "        \"\"\"\n",
    "        pass\n",
    "\n",
    "    def forward(self, input):\n",
    "        \"\"\"\n",
    "        Apply elementwise ReLU to the input\n",
    "        \"\"\"\n",
    "        output = np.maximum(0, input)\n",
    "        \n",
    "        return output\n",
    "\n",
    "    def backward(self, input, grad_output):\n",
    "        \"\"\"\n",
    "        Compute the gradient of loss. \n",
    "        grad_input = d loss / d x\n",
    "        grad_output = d loss / d y\n",
    "        \"\"\"\n",
    "        grad_input = grad_output.copy()\n",
    "        grad_input[input <= 0] = 0\n",
    "\n",
    "        return grad_input"
   ]
  },
  {
   "cell_type": "markdown",
   "metadata": {
    "id": "aihMC0K8jw8E"
   },
   "source": [
    "### 1.2. Fully-connected Layer (2 pts)\n",
    "\n",
    "After implementing the simplest layer, we come to a more complicated one: a fully-connected layer. Unlike a nonlinearity layer, a fully-connected layer has trainable parameters.\n",
    "\n",
    "A fully-connected layer applies an affine transformation. It can be described as: \n",
    "$$f(X)= X \\cdot W + \\vec b ,$$\n",
    "\n",
    "where\n",
    "* X is the input of shape [batch_size, input_dims],\n",
    "* W is a weight matrix [input_dims, output_dims],\n",
    "* and b is a vector of outputs_dims biases.\n",
    "\n",
    "W and b are\n",
    "* initialized when the layer is created,\n",
    "* and updated each time backward is called."
   ]
  },
  {
   "cell_type": "code",
   "execution_count": 4,
   "metadata": {
    "id": "VOkSrmYzjw8E",
    "tags": []
   },
   "outputs": [],
   "source": [
    "class Fully_connected(Layer):\n",
    "    def __init__(self, input_dims, output_dims, learning_rate=0.1):\n",
    "        \"\"\"\n",
    "        Fully_connected layer: f(x) = <x*W> + b\n",
    "        We initialize W, b, and learning rate to update W and b.\n",
    "        input_dims = number of input neurons\n",
    "        output_dims = number of output neurons\n",
    "        \"\"\"\n",
    "        self.weights = 0.01 * np.random.randn(input_dims, output_dims)\n",
    "        self.biases = np.zeros((1, output_dims))\n",
    "        self.learning_rate = learning_rate\n",
    "\n",
    "    def forward(self,input):\n",
    "        \"\"\"\n",
    "        Perform f(x) = <x*W> + b .\n",
    "        input shape: [batch, input_dims]\n",
    "        output shape: [batch, output_dims]\n",
    "        \"\"\"\n",
    "        output = np.dot(input, self.weights) + self.biases\n",
    "        \n",
    "        return output\n",
    "\n",
    "    def backward(self,input,grad_output):\n",
    "        \"\"\"\n",
    "        grad_input is defined as d loss / d x\n",
    "        grad_output is defined as d loss / d y (y is an output of the layer)\n",
    "        d loss / d B is the same as d loss / d y\n",
    "        \"\"\"\n",
    "        grad_input = np.dot(grad_output, self.weights.T)\n",
    "        grad_weights = np.dot(input.T, grad_output)\n",
    "        grad_biases = np.sum(grad_output, axis=0, keepdims=True)\n",
    "\n",
    "        # Here we perform a stochastic gradient descent (SGD) step: x = x - learning_rate * gradient_of_x.\n",
    "\n",
    "        self.weights = self.weights - self.learning_rate * grad_weights\n",
    "        self.biases = self.biases - self.learning_rate * grad_biases\n",
    "\n",
    "        return grad_input"
   ]
  },
  {
   "cell_type": "markdown",
   "metadata": {
    "id": "pvXCRmwKjw8G"
   },
   "source": [
    "### 1.3. The loss function - softmax cross-entropy (2 pts)\n",
    "\n",
    "Our model outputs the logits. Since we want to predict probabilities, it would be logical for us to apply softmax nonlinearity to our output logits and compute loss with predicted probabilities.\n",
    "\n",
    "If you are not familiar with softmax or cross-entropy loss, you can check:\n",
    "- Softmax: https://en.wikipedia.org/wiki/Softmax_function\n",
    "- Cross-entropy loss: https://ml-cheatsheet.readthedocs.io/en/latest/loss_functions.html#cross-entropy\n",
    "\n",
    "\n",
    "(We encourage you to first write down the expression for cross-entropy as a function of softmax logits. You can then try to rewrite it into a more concise form.)"
   ]
  },
  {
   "cell_type": "code",
   "execution_count": 5,
   "metadata": {
    "id": "jPw8k28mjw8G",
    "tags": []
   },
   "outputs": [],
   "source": [
    "def softmax_crossentropy_with_logits(logits,reference_answers):\n",
    "    \"\"\"\n",
    "    Compute cross-entropy loss for each sample from output logits [batch,n_classes] and reference_answers [batch].\n",
    "    Note that the reference_answers are not one-hot labels. Instead, they are the index of the categories, e.g., 2 instead of [0,0,1].\n",
    "    The output (xentropy) shape should be [batch,1] or [batch].\n",
    "    \"\"\"\n",
    "    norm = np.exp(logits - np.max(logits, axis=1, keepdims=True))\n",
    "    softmax = norm / np.sum(norm, axis=1, keepdims = True)\n",
    "    softmax_clipped = np.clip(softmax, 1e-7, 1 - 1e-7)\n",
    "    xentropy = -np.log(softmax_clipped[range(len(softmax_clipped)), reference_answers])\n",
    "\n",
    "    return xentropy\n",
    "\n",
    "def grad_softmax_crossentropy_with_logits(logits,reference_answers):\n",
    "    \"\"\"\n",
    "    Compute cross-entropy gradient from output logits [batch,n_classes] and reference_answers [batch].\n",
    "    Note that the reference_answers are not one-hot labels. Instead, they are the index of the categories, e.g., 2 instead of [0,0,1].\n",
    "    d loss / d y = predicted_output - true_output\n",
    "    gradient is with the respect to the raw output of the output layer\n",
    "    \"\"\"\n",
    "    norm = np.exp(logits - np.max(logits, axis=1, keepdims=True))\n",
    "    softmax = norm / np.sum(norm, axis=1, keepdims = True)\n",
    "    \n",
    "    samples = len(logits)\n",
    "    grad_input = softmax.copy()\n",
    "    grad_input[range(samples), reference_answers] -= 1\n",
    "    grad_input = grad_input / samples\n",
    "\n",
    "    return grad_input"
   ]
  },
  {
   "cell_type": "markdown",
   "metadata": {},
   "source": [
    "### 1.4. Network and Forward pass (1 pts)"
   ]
  },
  {
   "cell_type": "markdown",
   "metadata": {
    "id": "XErb4TrFjw8G"
   },
   "source": [
    "First, we define network as a list of layers, each applied on top of previous one."
   ]
  },
  {
   "cell_type": "code",
   "execution_count": 6,
   "metadata": {
    "id": "TOVs-C5pjw8G",
    "tags": []
   },
   "outputs": [],
   "source": [
    "network = []\n",
    "network.append(Fully_connected(1000, 256))\n",
    "network.append(ReLU())\n",
    "network.append(Fully_connected(256, 64))\n",
    "network.append(ReLU())\n",
    "network.append(Fully_connected(64, 8))"
   ]
  },
  {
   "cell_type": "markdown",
   "metadata": {},
   "source": [
    "Here, we implement the forward pass."
   ]
  },
  {
   "cell_type": "code",
   "execution_count": 7,
   "metadata": {
    "id": "qUD5bRhBjw8G",
    "tags": []
   },
   "outputs": [],
   "source": [
    "def forward(network, X):\n",
    "    \"\"\"\n",
    "    Compute the output of all network layers by applying them sequentially.\n",
    "    Note that we should return a list of outputs for each layer since we need them for backwrad pass.\n",
    "    \"\"\"\n",
    "    outputs = []\n",
    "    input = X\n",
    "    \n",
    "    for layer in network:\n",
    "        input = layer.forward(input)\n",
    "        outputs.append(input)\n",
    "\n",
    "    return outputs\n",
    "\n",
    "def predict(network, X):\n",
    "    \"\"\"\n",
    "    Use network to predict the result for each sample. Since we are doing classification, the result should be the index of the most likely class.\n",
    "    \"\"\"\n",
    "    outputs = forward(network, X)\n",
    "    last_layer = outputs[-1]\n",
    "    \n",
    "    norm = np.exp(last_layer - np.max(last_layer, axis=1, keepdims=True))\n",
    "    softmax = norm / np.sum(norm, axis=1, keepdims=True)\n",
    "    \n",
    "    prediction = np.argmax(softmax, axis=1)\n",
    "\n",
    "    return prediction"
   ]
  },
  {
   "cell_type": "markdown",
   "metadata": {
    "id": "LdwEd2Gwjw8G"
   },
   "source": [
    "### 1.5. Train and Backprop (2 pts)\n",
    "\n",
    "We implement the training function here. The function takes a network, network input X, and ground truth y as the inputs.\n",
    "When calling this function, we want to have a forward pass and a backward pass."
   ]
  },
  {
   "cell_type": "code",
   "execution_count": 8,
   "metadata": {
    "id": "Yd92p8kMjw8H",
    "tags": []
   },
   "outputs": [],
   "source": [
    "def train(network,X,y):\n",
    "    \"\"\"\n",
    "    Train your network on a given batch of X and y only once.\n",
    "    Here are the steps to train once:\n",
    "    1. Run forward to get all layer outputs.\n",
    "    2. Estimate loss and loss_grad.\n",
    "    3. Run layer.backward going from last layer to first.\n",
    "\n",
    "    Note that after you called backward for all layers, the layers with trainable parameters should have already updated.\n",
    "    \"\"\"\n",
    "    # Run forward to get outputs of all layers\n",
    "    layer_outputs = forward(network, X)\n",
    "    \n",
    "    # Get a list of all layer inputs\n",
    "    layer_inputs = []\n",
    "    layer_inputs.append(X)\n",
    "    for i in range(len(layer_outputs)-1):\n",
    "        layer_inputs.append(layer_outputs[i])\n",
    "        \n",
    "    logits = layer_outputs[-1]\n",
    "\n",
    "    # Compute the loss and the initial gradient\n",
    "    loss = softmax_crossentropy_with_logits(logits, y)\n",
    "     \n",
    "    grad_outputs = []\n",
    "    grad_output = grad_softmax_crossentropy_with_logits(logits, y)\n",
    "    grad_outputs.append(grad_output)\n",
    "\n",
    "    # Propagate gradients through network layers using .backward\n",
    "    j = len(layer_inputs) - 1\n",
    "    k = 0\n",
    "    for layer in reversed(network):\n",
    "        g_o = layer.backward(layer_inputs[j], grad_outputs[k])\n",
    "        grad_outputs.append(g_o)\n",
    "        j = j - 1\n",
    "        k = k + 1\n",
    "        \n",
    "    return np.mean(loss)"
   ]
  },
  {
   "cell_type": "markdown",
   "metadata": {
    "id": "NwAmZNidjw8H"
   },
   "source": [
    "## 2. Test your network (2 pt)\n",
    "\n",
    "In this homework, we use a single-cell dataset: Pancreas Dataset. Our task is to classify cells to cell types based on the gene expression information. There are 8 different cell types. Cells are samples, genes are features, and cell types are classes.\n",
    "\n",
    "You need to load the data from '.csv' and implement a simple dataloader. (If you do not remember why we need a dataloader, you can check Exercise 1.)"
   ]
  },
  {
   "cell_type": "code",
   "execution_count": 11,
   "metadata": {},
   "outputs": [],
   "source": [
    "# Load input data from 'data.csv'. Data in csv has 8391 rows and 1000 columns\n",
    "data = np.loadtxt(\"DLB/HW1/data.csv\", dtype=float, delimiter=\",\")\n",
    "# Standardizing the data for better training\n",
    "data = (data - np.mean(data, axis=0))/(np.std(data, axis=0)+1e-7)\n",
    "\n",
    "# 8391 rows mean there are 8391 cells.\n",
    "# 1000 columns mean 1000 genes are measured for each cell.\n",
    "\n",
    "# There are 8391 strings in 'label.csv', and they are the cell type of the 8391 cells.\n",
    "# The input data and labels are aligned:\n",
    "# For example, the first string in 'label.csv' is the cell type of the first cell (frist row of data) of 'data.csv'\n",
    "# In other words, data[0] and cell_type_per_sample[0] should be paired.\n",
    "\n",
    "cell_type_per_sample = np.loadtxt(\"DLB/HW1/label.csv\", dtype=str, delimiter=\",\")\n",
    "\n",
    "# Get integer labels from the cell types of data type string\n",
    "\n",
    "values = np.unique(cell_type_per_sample)\n",
    "labels = np.zeros(cell_type_per_sample.size, dtype=int)\n",
    "\n",
    "for value in values:\n",
    "    i = np.where(values == value)[0][0]\n",
    "    ind = np.where(cell_type_per_sample == value)[0]\n",
    "    labels[ind] = i\n",
    "\n",
    "# Split train and val data. You can choose the ratio of splitting, and you can decide whether to shuffle the data or not.\n",
    "index = round(0.8*np.shape(data)[0])\n",
    "X_train, X_val = data[:index, :], data[index:, :]\n",
    "y_train, y_val = labels[:index], labels[index:]"
   ]
  },
  {
   "cell_type": "markdown",
   "metadata": {},
   "source": [
    "Now, we have the training and test data. We need a dataloader."
   ]
  },
  {
   "cell_type": "code",
   "execution_count": 12,
   "metadata": {
    "id": "iHuBzg4Djw8H",
    "tags": []
   },
   "outputs": [],
   "source": [
    "# A mini-dataloader\n",
    "from tqdm import trange\n",
    "\n",
    "# Note: function signatures should remain the same, but the skeleton is just a guide and can be changed.\n",
    "def iterate_minibatches(inputs, targets, batchsize, shuffle=False):\n",
    "    \n",
    "    assert len(inputs) == len(targets)\n",
    "\n",
    "    if shuffle:\n",
    "        # re-order the indices for shuffling the samples\n",
    "        indices = np.random.permutation(np.arange(len(targets)))\n",
    "    \n",
    "    for start_idx in trange(0, len(inputs) - batchsize + 1, batchsize):\n",
    "\n",
    "        # Get indexs for the current mini-batch\n",
    "        if shuffle:\n",
    "            indexs = indices[start_idx:start_idx+batchsize]\n",
    "        else:\n",
    "            indexs = np.arange(start_idx, start_idx+batchsize, 1, dtype=int)\n",
    "\n",
    "        yield inputs[indexs], targets[indexs]"
   ]
  },
  {
   "cell_type": "markdown",
   "metadata": {},
   "source": [
    "Now, test your model! You should get a more than 90% accuracy for training data and a more than 85% accuracy for validation data."
   ]
  },
  {
   "cell_type": "code",
   "execution_count": 16,
   "metadata": {
    "colab": {
     "base_uri": "https://localhost:8080/",
     "height": 481
    },
    "id": "3FOu8r1Qjw8H",
    "outputId": "1f76da29-96ca-4518-9499-b6a324cf898c",
    "tags": []
   },
   "outputs": [
    {
     "name": "stdout",
     "output_type": "stream",
     "text": [
      "Epoch 9\n",
      "Train accuracy: 0.984954565767913\n",
      "Val accuracy: 0.8963051251489869\n"
     ]
    },
    {
     "data": {
      "image/png": "[encoded data removed]",
      "text/plain": [
       "<Figure size 640x480 with 1 Axes>"
      ]
     },
     "metadata": {},
     "output_type": "display_data"
    }
   ],
   "source": [
    "import matplotlib.pyplot as plt\n",
    "from IPython.display import clear_output\n",
    "\n",
    "train_log = []\n",
    "val_log = []\n",
    "\n",
    "for epoch in range(10):\n",
    "\n",
    "    for x_batch,y_batch in iterate_minibatches(X_train, y_train, batchsize=256, shuffle=True):\n",
    "        train(network, x_batch, y_batch)\n",
    "\n",
    "    train_log.append(np.mean(predict(network, X_train) == y_train))\n",
    "    val_log.append(np.mean(predict(network, X_val) == y_val))\n",
    "\n",
    "    clear_output()\n",
    "    print(\"Epoch\",epoch)\n",
    "    print(\"Train accuracy:\",train_log[-1])\n",
    "    print(\"Val accuracy:\",val_log[-1])\n",
    "\n",
    "plt.plot(train_log,label='train accuracy')\n",
    "plt.plot(val_log,label='val accuracy')\n",
    "plt.legend(loc='best')\n",
    "plt.grid()\n",
    "plt.show()"
   ]
  }
 ],
 "metadata": {
  "colab": {
   "provenance": []
  },
  "kernelspec": {
   "display_name": "Python 3 (ipykernel)",
   "language": "python",
   "name": "python3"
  },
  "language_info": {
   "codemirror_mode": {
    "name": "ipython",
    "version": 3
   },
   "file_extension": ".py",
   "mimetype": "text/x-python",
   "name": "python",
   "nbconvert_exporter": "python",
   "pygments_lexer": "ipython3",
   "version": "3.11.6"
  },
  "toc": {
   "colors": {
    "hover_highlight": "#DAA520",
    "navigate_num": "#000000",
    "navigate_text": "#333333",
    "running_highlight": "#FF0000",
    "selected_highlight": "#FFD700",
    "sidebar_border": "#EEEEEE",
    "wrapper_background": "#FFFFFF"
   },
   "moveMenuLeft": true,
   "nav_menu": {
    "height": "264px",
    "width": "252px"
   },
   "navigate_menu": true,
   "number_sections": true,
   "sideBar": true,
   "threshold": 4,
   "toc_cell": false,
   "toc_section_display": "block",
   "toc_window_display": false,
   "widenNotebook": false
  }
 },
 "nbformat": 4,
 "nbformat_minor": 4
}
