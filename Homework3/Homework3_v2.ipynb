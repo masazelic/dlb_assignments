{
 "cells": [
  {
   "cell_type": "markdown",
   "metadata": {
    "id": "iR_Pck7Al4CT"
   },
   "source": [
    "# Homework 3 - Marija Zelic, 371271"
   ]
  },
  {
   "cell_type": "markdown",
   "metadata": {
    "id": "XmU4ZIMGl4CV"
   },
   "source": [
    "In this homework, we are going to work with the transformer. There are three parts of this homework.\n",
    "\n",
    "- In the first part, we are going to implement **positional encoding** and **self-attention**  and test them on a simple text dataset which contains around 100 sentences. We will use a small transformer in this task.\n",
    "\n",
    "- In the second part, we will detect promoters from the DNA sequences. The main difference compared to the previous task is to tokenize the DNA sequence. Thus, our task here is to build the **tokenizer** to tokenize the DNA sequence. For the model, we will continue using the small transformer.\n",
    "\n",
    "- In the third part, we will use a **foundation model** DNABERT to perform promoter detection. In this part, you do not need to train the transformer. Instead, you need to find and load the correct pre-trained model and then use it to get the embedding of the DNA sequence. Then, you will build a simple classifier to perform promoter detection based on the DNA embedding.\n",
    "\n"
   ]
  },
  {
   "cell_type": "markdown",
   "metadata": {
    "id": "BSUuTdFzl4CW"
   },
   "source": [
    "## 0. Initialization\n",
    "\n",
    "Import the packages you are going to use here."
   ]
  },
  {
   "cell_type": "code",
   "execution_count": 1,
   "metadata": {
    "id": "p1ZVjO39l4CW",
    "tags": []
   },
   "outputs": [],
   "source": [
    "import torch\n",
    "import torch.nn as nn\n",
    "import torch.nn.functional as F\n",
    "import torch.optim as optim\n",
    "from transformers import AutoTokenizer, AutoModel\n",
    "from torch.utils.data import DataLoader, TensorDataset\n",
    "import pandas as pd\n",
    "import random\n",
    "import numpy as np\n",
    "from torchmetrics.classification import BinaryF1Score\n",
    "import sys\n",
    "\n",
    "import ipywidgets as widgets\n",
    "from types import SimpleNamespace\n",
    "from utils import data, evaluation, models, visualization, text_exercise\n",
    "\n",
    "import math\n",
    "\n",
    "from transformers import logging\n",
    "\n",
    "logging.set_verbosity_error() # set this so it would not notify you every time that you should train it for specific task"
   ]
  },
  {
   "cell_type": "markdown",
   "metadata": {
    "id": "AlfFQGxTl4CX"
   },
   "source": [
    "Set the hyperparameters."
   ]
  },
  {
   "cell_type": "code",
   "execution_count": 2,
   "metadata": {
    "id": "IZarWmlEl4CX",
    "tags": []
   },
   "outputs": [],
   "source": [
    "# Set seeds\n",
    "seed = 128\n",
    "torch.backends.cudnn.deterministic = True\n",
    "torch.backends.cudnn.benchmark = False\n",
    "random.seed(seed)\n",
    "np.random.seed(seed)\n",
    "torch.manual_seed(seed)\n",
    "torch.cuda.manual_seed(seed)\n",
    "\n",
    "# Set device\n",
    "device = torch.device(\"cuda\" if torch.cuda.is_available() else \"cpu\")"
   ]
  },
  {
   "cell_type": "markdown",
   "metadata": {
    "id": "rogOyXmtl4CX"
   },
   "source": [
    "## 1. Positional Encoding and Self-Attention (7 pts)"
   ]
  },
  {
   "cell_type": "markdown",
   "metadata": {
    "id": "m3cFiQ1Vl4CX"
   },
   "source": [
    "### 1.1. Sinusoidal Positional Encoding (1 pt)\n",
    "\n",
    "In this section, you are going to implement the sinusoidal positional encoding. The formula is as the following:\n",
    "\n",
    "<div>\n",
    "<img src=\"imgs/positional embedding.png\" width=\"400\"/>\n",
    "</div>\n",
    "\n",
    "where $t$ is the desired position in the input and $\\mathsf{\\omega}_k$ follows:\n",
    "\n",
    "<div>\n",
    "<img src=\"imgs/omega.png\" width=\"200\"/>\n",
    "</div>\n",
    "\n",
    "To see the details of sinusoidal positional encoding, you can check this [link](https://kazemnejad.com/blog/transformer_architecture_positional_encoding/)."
   ]
  },
  {
   "cell_type": "code",
   "execution_count": 3,
   "metadata": {
    "id": "QQkAEC1Jl4CX",
    "tags": []
   },
   "outputs": [],
   "source": [
    "class PositionalEmbedding(nn.Module):\n",
    "\n",
    "    def __init__(self, max_position_embeddings, hidden_size, device):\n",
    "        super().__init__()\n",
    "\n",
    "        '''\n",
    "        max_position_embeddings: maximum length of the input - related to t in the previous formula\n",
    "        hidden_size: encoding dimension - d in the previous formula\n",
    "        '''\n",
    "        # Making matrix of shape (max_position_embeddings, hidden_size), displayed below\n",
    "        # [0, ..., 0]\n",
    "        # [1, ..., 1]\n",
    "        # ....\n",
    "        # [mpe-1, ..., mpe-1]\n",
    "        t = torch.arange(max_position_embeddings)\n",
    "        t = t.repeat(hidden_size, 1)\n",
    "        t = torch.transpose(t, 0, 1)\n",
    "\n",
    "\n",
    "        # Making w_k values\n",
    "        k = torch.arange(hidden_size/2)\n",
    "        k = (-2) * torch.repeat_interleave(k, 2) / hidden_size\n",
    "        w_k = torch.pow(10000., k)\n",
    "\n",
    "        # Create positional embeddings\n",
    "        self.positional_embedding = t * w_k\n",
    "        even_indices = torch.arange(0, hidden_size, 2)\n",
    "        odd_indices = torch.arange(1, hidden_size, 2)\n",
    "\n",
    "        # Apply sine on columns with even indexes and cosine on columns with odd indexes\n",
    "        self.positional_embedding[:, even_indices] = torch.sin(self.positional_embedding[:, even_indices])\n",
    "        self.positional_embedding[:, odd_indices] = torch.cos(self.positional_embedding[:, odd_indices])\n",
    "\n",
    "\n",
    "    def forward(self, x):\n",
    "        return self.positional_embedding[:x.size(1), :]\n",
    "\n",
    "    def embedding(self):\n",
    "        return self.positional_embedding"
   ]
  },
  {
   "cell_type": "markdown",
   "metadata": {
    "id": "PO8gqB9Zl4CY"
   },
   "source": [
    "Here, you can visualize your positional encoding. If you implement everything correctly, you can get a figure that is similar to Figure 2 in this [link](https://kazemnejad.com/blog/transformer_architecture_positional_encoding/)."
   ]
  },
  {
   "cell_type": "code",
   "execution_count": 4,
   "metadata": {
    "colab": {
     "base_uri": "https://localhost:8080/",
     "height": 316,
     "referenced_widgets": [
      "db9ba85eee0d425693c9c1ddbed0a333",
      "3e28499cbc3e4bcb84ed82d2f16ecb6d",
      "55cf3a8bab2c4b528b9c5fd5cbdbe496",
      "987c295acc7649c7ac3a9777c0eb5c42",
      "b61b80ce405e404d9834e2327d931e36",
      "8c769bc905ae4f1cbcbe306b0cd2d67c",
      "02637843f2944af9bea5051a7d94096d",
      "814d811c86da40bd8f37c046b5fb2578",
      "53d33cd791664637a57f5f6a24bb06ab",
      "621731465fd044a2bff255f072e632bb"
     ]
    },
    "id": "gYSCCRngl4CY",
    "outputId": "6fd5ea62-990e-4726-e345-420ba97b79a0",
    "tags": []
   },
   "outputs": [
    {
     "data": {
      "application/vnd.jupyter.widget-view+json": {
       "model_id": "5e87a4ae5cda416b88f759233cb76f84",
       "version_major": 2,
       "version_minor": 0
      },
      "text/plain": [
       "HBox(children=(Dropdown(description='Sequence Length', index=2, options=(100, 500, 1000, 5000), style=Descript…"
      ]
     },
     "metadata": {},
     "output_type": "display_data"
    },
    {
     "data": {
      "application/vnd.jupyter.widget-view+json": {
       "model_id": "920106f60b31496abdd19efbb54d0bcf",
       "version_major": 2,
       "version_minor": 0
      },
      "text/plain": [
       "Output()"
      ]
     },
     "metadata": {},
     "output_type": "display_data"
    }
   ],
   "source": [
    "visualize_embedding, dimension_selector, max_len_selector = visualization.display_positional_encoding(PositionalEmbedding)\n",
    "ui = widgets.HBox([max_len_selector, dimension_selector])\n",
    "out = widgets.interactive_output( visualize_embedding, {'max_len': max_len_selector, 'dimension': dimension_selector})\n",
    "display(ui, out)"
   ]
  },
  {
   "cell_type": "markdown",
   "metadata": {
    "id": "3Jp79K9rl4CY"
   },
   "source": [
    "### 1.2. Self-Attention Mechanism (5 pts)"
   ]
  },
  {
   "cell_type": "markdown",
   "metadata": {
    "id": "jJt6KzAbl4CY"
   },
   "source": [
    "In this section, you are going to implement the self-attention mechanism. Please check the section 'Self-Attention in Detail' in this [link](https://jalammar.github.io/illustrated-transformer/) for the details of self-attention mechanism. (We encourage you to carefully go through the link since it is a very good tutorial for transformer.)\n",
    "\n",
    "The specific steps will be provided in the comments of the following code. (The steps are only for reference. You do need to follow the steps if you have a better way to implement it.)"
   ]
  },
  {
   "cell_type": "markdown",
   "metadata": {
    "id": "D558iF8cl4CZ"
   },
   "source": [
    "Let's test your implementation using simple text data! First, let's load the data.\n",
    "\n",
    "We use a small dataset in this homework for a shorter training time."
   ]
  },
  {
   "cell_type": "code",
   "execution_count": 5,
   "metadata": {
    "tags": []
   },
   "outputs": [],
   "source": [
    "class BertSelfAttention(nn.Module):\n",
    "    def __init__(self, config):\n",
    "        super().__init__()\n",
    "        if config.hidden_size % config.num_attention_heads != 0:\n",
    "            raise ValueError(\n",
    "                \"The hidden size (%d) is not a multiple of the number of attention \"\n",
    "                \"heads (%d)\" % (config.hidden_size, config.num_attention_heads)\n",
    "            )\n",
    "        self.output_attentions = config.output_attentions\n",
    "        self.num_attention_heads = config.num_attention_heads\n",
    "        self.attention_head_size = int(config.hidden_size / config.num_attention_heads)\n",
    "        self.all_head_size = self.num_attention_heads * self.attention_head_size\n",
    "\n",
    "        # ToDo: initialize K, Q, V\n",
    "        self.query = nn.Linear(config.hidden_size, self.all_head_size, bias=False)\n",
    "        self.key = nn.Linear(config.hidden_size, self.all_head_size, bias=False)\n",
    "        self.value = nn.Linear(config.hidden_size, self.all_head_size, bias=False)\n",
    "\n",
    "        # ToDo: add a dropout layer\n",
    "        # Hint: using config.attention_probs_dropout_prob as the dropout probability\n",
    "        self.dropout = nn.Dropout(config.attention_probs_dropout_prob)\n",
    "\n",
    "    def transpose_for_scores(self, x):\n",
    "        new_x_shape = x.size()[:-1] + (self.num_attention_heads, self.attention_head_size)\n",
    "        x = x.view(*new_x_shape)\n",
    "        return x.permute(0, 2, 1, 3)\n",
    "\n",
    "    def forward(\n",
    "        self,\n",
    "        hidden_states,\n",
    "        attention_mask=None,\n",
    "        head_mask=None,\n",
    "        encoder_hidden_states=None,\n",
    "        encoder_attention_mask=None,\n",
    "    ):\n",
    "        # The parameter encoder_hidden_states and encoder_attention_mask is for cross-attention. \n",
    "        # We do not use them in this homework.\n",
    "\n",
    "        # ToDo: get the key, query, and value from the hidden_states\n",
    "        mixed_key_layer = self.key(hidden_states)\n",
    "        mixed_query_layer = self.query(hidden_states)\n",
    "        mixed_value_layer = self.value(hidden_states)\n",
    "\n",
    "        # ToDo: transpose K, Q, V to get the score\n",
    "        # Hint: using self.transpose_for_scores\n",
    "        query_layer = self.transpose_for_scores(mixed_query_layer)\n",
    "        key_layer = self.transpose_for_scores(mixed_key_layer)\n",
    "        value_layer = self.transpose_for_scores(mixed_value_layer)\n",
    "\n",
    "        # ToDo: Get the raw attention score\n",
    "        # Hint: Lecture 05 transformers - Slide 23 - the part within the softmax\n",
    "        attention_scores = torch.matmul(query_layer, key_layer.transpose(-1, -2))\n",
    "        attention_scores = attention_scores / math.sqrt(self.attention_head_size)\n",
    "        \n",
    "        # You do not need to change this part.\n",
    "        # Explanation of attention_mask: https://lukesalamone.github.io/posts/what-are-attention-masks/\n",
    "        if attention_mask is not None:\n",
    "            attention_scores = attention_scores + attention_mask\n",
    "\n",
    "        # ToDo: Normalize the attention scores to probabilities.\n",
    "        # Hint: \n",
    "        # 1. Lecture 05 transformers - Slide 23 - using softmax to get the probability\n",
    "        # 2. Use self.dropout to do the dropout\n",
    "\n",
    "        attention_probs = nn.Softmax(dim=-1)(attention_scores)\n",
    "        attention_probs = self.dropout(attention_probs)\n",
    "\n",
    "        # You do not need to change this part.\n",
    "        if head_mask is not None:\n",
    "            attention_probs = attention_probs * head_mask\n",
    "\n",
    "        # ToDo: Multiply each value by the score\n",
    "        # Hint: \n",
    "        # 1. Lecture 05 transformers - Slide 23 - getting the final result\n",
    "        # 2. Permuting the result to the correct shape. If you do not know what should be the correct shape, you can print the shape of the tensors.\n",
    "        context_layer = torch.matmul(attention_probs, value_layer)\n",
    "        context_layer = context_layer.permute(0, 2, 1, 3).contiguous()\n",
    "        new_context_layer_shape = context_layer.size()[:-2] + (self.all_head_size,)\n",
    "        context_layer = context_layer.view(*new_context_layer_shape)\n",
    "        \n",
    "        # Get the output\n",
    "        outputs = (context_layer, attention_probs) if self.output_attentions else (context_layer,)\n",
    "        return outputs"
   ]
  },
  {
   "cell_type": "code",
   "execution_count": 6,
   "metadata": {
    "id": "fs3HfOGgl4CZ",
    "tags": []
   },
   "outputs": [],
   "source": [
    "# ChatGPT generated text data about BERT\n",
    "text = text_exercise.get()\n",
    "sentences_df, vocab = data.to_sentence_df(text)"
   ]
  },
  {
   "cell_type": "markdown",
   "metadata": {
    "id": "tDOhHz71l4CZ"
   },
   "source": [
    "After loading the data, you can train your model. Here we train our model using masked token prediction.\n",
    "\n",
    "Hint: The final model accuracy should be higher than 0.9."
   ]
  },
  {
   "cell_type": "code",
   "execution_count": 7,
   "metadata": {
    "id": "U2JAC8krl4CZ",
    "tags": []
   },
   "outputs": [],
   "source": [
    "text_max_len = 11\n",
    "\n",
    "text_config = SimpleNamespace(\n",
    "        vocab_size=len(vocab),\n",
    "        hidden_size=60,\n",
    "        max_position_embeddings=text_max_len,\n",
    "        type_vocab_size=1,\n",
    "        layer_norm_eps=1e-12,\n",
    "        hidden_dropout_prob=0.0,\n",
    "        attention_probs_dropout_prob=0.0,\n",
    "        num_attention_heads=1,\n",
    "        hidden_act=\"gelu\",\n",
    "        intermediate_size=160,\n",
    "        num_hidden_layers=1,\n",
    "        is_decoder=False,\n",
    "        output_attentions=True,\n",
    "        output_hidden_states=False,\n",
    "        pruned_heads = {},\n",
    "        initializer_range=0.02,\n",
    "        device=\"cpu\"\n",
    "    )\n",
    "\n",
    "tokenizer = data.TextTokenizer(vocab)\n",
    "input_ids, segment_ids, masked_lm_labels, labels_idx, labels, attention_masks = data.generate_masked_data(sentences_df, tokenizer, k=1, max_len=text_max_len, noise_rate=0.4)"
   ]
  },
  {
   "cell_type": "code",
   "execution_count": 8,
   "metadata": {
    "id": "3HF-Yz_Jl4CZ",
    "outputId": "b3862333-a3c8-4c55-fae1-8d8de86898a8",
    "tags": []
   },
   "outputs": [
    {
     "name": "stdout",
     "output_type": "stream",
     "text": [
      "Number of trainable model parameters: 64730\n",
      "Epoch: 0020 loss = 4.301435\n",
      "Epoch: 0040 loss = 3.687816\n",
      "Epoch: 0060 loss = 3.129095\n",
      "Epoch: 0080 loss = 2.624837\n",
      "Epoch: 0100 loss = 2.151881\n",
      "Epoch: 0120 loss = 1.704488\n",
      "Epoch: 0140 loss = 1.300868\n",
      "Epoch: 0160 loss = 0.950828\n",
      "Epoch: 0180 loss = 0.666645\n",
      "Epoch: 0200 loss = 0.445623\n",
      "Final model accuracy: 0.9922480620155039\n"
     ]
    }
   ],
   "source": [
    "model = models.BertForMaskedLM(config=text_config, positional_embedding=PositionalEmbedding, attention=BertSelfAttention)\n",
    "optimizer = optim.AdamW(model.parameters(), lr=0.001)\n",
    "print(f\"Number of trainable model parameters: {models.number_of_model_parameters(model)}\")\n",
    "\n",
    "for epoch in range(200):\n",
    "    optimizer.zero_grad()\n",
    "    loss, outputs, attentions = model(\n",
    "        input_ids=input_ids,\n",
    "        token_type_ids=segment_ids,\n",
    "        masked_lm_labels=masked_lm_labels,\n",
    "        attention_mask=attention_masks\n",
    "    )\n",
    "    if (epoch + 1) % 20 == 0:\n",
    "        print('Epoch:', '%04d' % (epoch + 1), 'loss =', '{:.6f}'.format(loss))\n",
    "    loss.backward()\n",
    "    optimizer.step()\n",
    "\n",
    "print(f\"Final model accuracy: {evaluation.masked_label_accuracy(labels, labels_idx, outputs.data)}\")"
   ]
  },
  {
   "cell_type": "markdown",
   "metadata": {
    "id": "B31lL8VWl4CZ"
   },
   "source": [
    "### 1.3. Visualize Attention (1 pt)\n",
    "\n",
    "Here, you can visualize the self-attention.\n",
    "\n",
    "Question: Can you interpret the visualization of the self-attention?\n",
    "\n",
    "**Write down you answer here (1 pt):**"
   ]
  },
  {
   "cell_type": "code",
   "execution_count": 9,
   "metadata": {
    "colab": {
     "referenced_widgets": [
      "2acc6c7423cc4167922f96dc9d3e031a"
     ]
    },
    "id": "fFxdFc0al4CZ",
    "outputId": "f8c738b8-df18-4e4a-b789-3d31f121726e",
    "tags": []
   },
   "outputs": [
    {
     "data": {
      "application/vnd.jupyter.widget-view+json": {
       "model_id": "81e1e695091647ac8de8dc15450feb58",
       "version_major": 2,
       "version_minor": 0
      },
      "text/plain": [
       "interactive(children=(Dropdown(description='Sample:', options=(5, 8, 11, 13, 18, 24, 26, 29, 31, 35, 37, 38, 6…"
      ]
     },
     "execution_count": 9,
     "metadata": {},
     "output_type": "execute_result"
    }
   ],
   "source": [
    "visualize_attention, sample_id_selector = visualization.display_attantion(attentions=attentions, input_ids=input_ids, tokenizer=tokenizer)\n",
    "widgets.interactive(visualize_attention, sample_id=sample_id_selector)"
   ]
  },
  {
   "cell_type": "markdown",
   "metadata": {
    "id": "haaoHl66l4Ca"
   },
   "source": [
    "**Answer:** In the table above attention weight matrix is displayed. The attention weight matrix measures the \"strenght\" of relationship between a word in a sentence and every other word in the same sentence. As we can see in the table above, we are looking at the fifth sample, which is the sentence *\"Now, it's much easier because of transformers.\"*. As we set maximum lenght for the sentence to be 11, by the parameter *text_max_len*, the remaining words to the maximum lenght are padded (indicated by the 'PAD' in the table). Also, we are using masked token prediction, so some of the tokens are masked (labeled with the 'MASK' in the table). It can be inferred that the strongest relationship exists bewteen *now* and *it's* tokens with the other words (especially masked ones) and that can be attributed to various reasons, such as postitonal and contextual information masked words provide and the critical importance of the begining and end of the sentence in general."
   ]
  },
  {
   "cell_type": "markdown",
   "metadata": {
    "id": "0FB87isxl4Ca"
   },
   "source": [
    "### 1.4. Train on small Wikitext Dataset\n",
    "\n",
    "Here, you can **optionally** test your model on the smallest wikitext dataset. You should get an test accuracy around 0.4 after training 50 epochs.\n",
    "\n",
    "This part is only for you to test your code. You can choose to run it or not. It takes around 1 hour to train the model for 50 epochs on the smallest wikitext dataset with Google Colab."
   ]
  },
  {
   "cell_type": "code",
   "execution_count": 10,
   "metadata": {
    "id": "OD_VK2dul4Ca",
    "tags": []
   },
   "outputs": [],
   "source": [
    "#text_exercise.train_wikitext(device, positional_embedding=PositionalEmbedding, attention=BertSelfAttention)"
   ]
  },
  {
   "cell_type": "markdown",
   "metadata": {
    "id": "vPdmiZ-el4Ca"
   },
   "source": [
    "## 2. Promoter detection (7 pts)"
   ]
  },
  {
   "cell_type": "markdown",
   "metadata": {
    "id": "SnD1RI6Fl4Ca"
   },
   "source": [
    "In this section, we detect promoter in DNA sequence.\n",
    "\n",
    "A promoter is a region of DNA upstream of a gene where relevant proteins (such as RNA polymerase and transcription factors) bind to initiate transcription of that gene. Promoter detection is to identify if there are promoter regions in the given DNA sequence. We have covered this in the lecture. (If you are interested in the promoter, you can check this [link](https://www.genome.gov/genetics-glossary/Promoter) for more details.)\n",
    "\n",
    "Here, we use a transformer and a classifier. The transformer first embeds the DNA sequences into features, and then the classifier detects the promoter based on the features.\n",
    "\n",
    "The main difference between text and DNA sequence is how to tokenize the sequence. Thus, you need to implement a tokenizer for the DNA sequence."
   ]
  },
  {
   "cell_type": "code",
   "execution_count": 11,
   "metadata": {
    "id": "d4zxLe9Hl4Ca",
    "tags": []
   },
   "outputs": [],
   "source": [
    "class DNATokenizer(data.Tokenizer):\n",
    "    def __init__(self, k, vocab, unknown=\"[UNK]\"):\n",
    "        super().__init__(vocab, unknown)\n",
    "\n",
    "        # self.k is the k of k-mers\n",
    "        self.k = k\n",
    "\n",
    "    def _parse_text(self, text):\n",
    "\n",
    "        # ToDo: get the tokens\n",
    "        output = []\n",
    "        for i in range(len(text) - (self.k-1)):\n",
    "            output.append(text[i:i+self.k])\n",
    "\n",
    "        output.insert(0, '[CLS]')\n",
    "        output.append('[SEP]')\n",
    "        return output"
   ]
  },
  {
   "cell_type": "code",
   "execution_count": 12,
   "metadata": {
    "id": "GSvrqoL_l4Ca",
    "tags": []
   },
   "outputs": [],
   "source": [
    "kmer = 3\n",
    "mask_length = kmer\n",
    "VOCAB_3MER = [\"[PAD]\", \"[UNK]\", \"[CLS]\", \"[SEP]\", \"[MASK]\", \"AAA\", \"AAT\", \"AAC\", \"AAG\", \"ATA\", \"ATT\", \"ATC\", \"ATG\", \"ACA\", \"ACT\", \"ACC\", \"ACG\", \"AGA\", \"AGT\", \"AGC\", \"AGG\", \"TAA\", \"TAT\", \"TAC\", \"TAG\", \"TTA\", \"TTT\", \"TTC\", \"TTG\", \"TCA\", \"TCT\", \"TCC\", \"TCG\", \"TGA\", \"TGT\", \"TGC\", \"TGG\", \"CAA\", \"CAT\", \"CAC\", \"CAG\", \"CTA\", \"CTT\", \"CTC\", \"CTG\", \"CCA\", \"CCT\", \"CCC\", \"CCG\", \"CGA\", \"CGT\", \"CGC\", \"CGG\", \"GAA\", \"GAT\", \"GAC\", \"GAG\", \"GTA\", \"GTT\", \"GTC\", \"GTG\", \"GCA\", \"GCT\", \"GCC\", \"GCG\", \"GGA\", \"GGT\", \"GGC\", \"GGG\" ]\n",
    "\n",
    "raw_training_data = data.load_csv(\"./data/train.csv\")\n",
    "raw_test_data = data.load_csv(\"./data/test.csv\")\n",
    "dna_max_len = 300\n",
    "batch_size = 128\n",
    "max_dna_mask = 100\n",
    "dataset_size = 1000\n",
    "num_layers = 3\n",
    "num_heads = 6\n",
    "dna_config = SimpleNamespace(\n",
    "        vocab_size=len(VOCAB_3MER),\n",
    "        hidden_size=60,\n",
    "        max_position_embeddings=dna_max_len,\n",
    "        type_vocab_size=1,\n",
    "        layer_norm_eps=1e-12,\n",
    "        hidden_dropout_prob=0.0,\n",
    "        attention_probs_dropout_prob=0.0,\n",
    "        num_attention_heads=num_heads,\n",
    "        hidden_act=\"gelu\",\n",
    "        intermediate_size=160,\n",
    "        num_hidden_layers=num_layers,\n",
    "        is_decoder=False,\n",
    "        output_attentions=True,\n",
    "        output_hidden_states=True,\n",
    "        pruned_heads = {},\n",
    "        initializer_range=0.02,\n",
    "        device=device\n",
    "    )"
   ]
  },
  {
   "cell_type": "markdown",
   "metadata": {
    "id": "jJpk_RW2l4Ca"
   },
   "source": [
    "### 2.2. Test BERT on DNA Sequence\n",
    "\n",
    "In this section, you will train BERT on DNA sequence to learn the embedding of DNA sequence. The code is provided below and you do not need to write anything.\n",
    "\n",
    "Hint: the final evaluation accuracy should be higher than 0.2.  \n",
    "\n",
    "**NOTE** : I added ['CLS'] and ['SEP'] tokens in the tokenization procedure, so the parameter *dna_mask* had to be increased from 298 to 300. ['CLS'] token is often used when BERT pretrained model is used for sequence classification task."
   ]
  },
  {
   "cell_type": "code",
   "execution_count": 13,
   "metadata": {
    "id": "13ptOdrzl4Ca",
    "outputId": "c053d03f-9fbd-4569-ac20-933968477eb7",
    "tags": []
   },
   "outputs": [
    {
     "name": "stdout",
     "output_type": "stream",
     "text": [
      "Number of trainable model parameters: 118329\n"
     ]
    }
   ],
   "source": [
    "tokenizer = DNATokenizer(k=kmer, vocab=VOCAB_3MER)\n",
    "input_ids, segment_ids, masked_lm_labels, labels_idx, labels, attention_masks = data.generate_masked_data(raw_training_data, tokenizer, max_len=dna_max_len, max_mask=max_dna_mask, k=mask_length, mask_rate=0.05, max_size=dataset_size)\n",
    "test_input_ids, test_segment_ids, test_masked_lm_labels, test_labels_idx, test_labels, test_attention_masks = data.generate_masked_data(raw_test_data, tokenizer, max_len=dna_max_len, max_mask=max_dna_mask, k=mask_length, mask_rate=0.05, max_size=dataset_size)\n",
    "model = models.BertForMaskedLM(config=dna_config, positional_embedding=PositionalEmbedding, attention=BertSelfAttention).to(device)\n",
    "optimizer = optim.AdamW(model.parameters(), lr=0.005)\n",
    "print(f\"Number of trainable model parameters: {models.number_of_model_parameters(model)}\")\n",
    "\n",
    "train_dataset = TensorDataset(input_ids, segment_ids, masked_lm_labels, labels_idx, labels, attention_masks)\n",
    "train_loader = DataLoader(train_dataset, batch_size=batch_size, shuffle=True)\n",
    "\n",
    "test_dataset = TensorDataset(test_input_ids, test_segment_ids, test_masked_lm_labels, test_labels_idx, test_labels, test_attention_masks)\n",
    "test_loader = DataLoader(test_dataset, batch_size=batch_size, shuffle=False)"
   ]
  },
  {
   "cell_type": "code",
   "execution_count": 14,
   "metadata": {
    "id": "vusSUaiTl4Cb",
    "outputId": "f253bcbf-a4f6-453b-d347-fd455187fb07",
    "tags": []
   },
   "outputs": [
    {
     "name": "stdout",
     "output_type": "stream",
     "text": [
      "Epoch: 0010 train cost = 3.968960 eval cost = 4.046225\n",
      "Epoch: 0020 train cost = 3.157144 eval cost = 3.320750\n",
      "Epoch: 0030 train cost = 1.869228 eval cost = 2.085021\n",
      "Epoch: 0040 train cost = 1.503844 eval cost = 2.112750\n",
      "Epoch: 0050 train cost = 1.250351 eval cost = 2.457559\n",
      "Train Acc = 0.544526 Eval Acc = 0.254933\n"
     ]
    }
   ],
   "source": [
    "for epoch in range(50):\n",
    "  total_train_loss = 0\n",
    "  model.train()\n",
    "  for batch_input_ids, batch_segment_ids, batch_masked_lm_labels, _, _, batch_attention_mask in train_loader:\n",
    "    optimizer.zero_grad()\n",
    "    loss, outputs, hidden_states, _ = model(\n",
    "        input_ids=batch_input_ids.to(device),\n",
    "        token_type_ids=batch_segment_ids.to(device),\n",
    "        masked_lm_labels=batch_masked_lm_labels.to(device),\n",
    "        attention_mask=batch_attention_mask.to(device)\n",
    "    )\n",
    "    #print(hidden_states[1].size())\n",
    "    #check = hidden_states[1]\n",
    "    #check_new = check[:, 0, :]\n",
    "    #print(check_new.size())\n",
    "    loss.backward()\n",
    "    optimizer.step()\n",
    "    total_train_loss += loss.item()\n",
    "  avg_train_loss = total_train_loss / len(train_loader)\n",
    "\n",
    "  if (epoch + 1) % 10 == 0:\n",
    "    model.eval()\n",
    "    total_eval_loss = 0\n",
    "    for batch_input_ids, batch_segment_ids, batch_masked_lm_labels, _, _, batch_attention_mask in test_loader:\n",
    "      with torch.no_grad():\n",
    "        loss, outputs, hidden_states, _ = model(\n",
    "          input_ids=batch_input_ids.to(device),\n",
    "          token_type_ids=batch_segment_ids.to(device),\n",
    "          masked_lm_labels=batch_masked_lm_labels.to(device),\n",
    "          attention_mask=batch_attention_mask.to(device)\n",
    "        )\n",
    "        if batch_attention_mask.sum() - torch.numel(batch_attention_mask) > 0 :\n",
    "          print(\"found patting\", batch_attention_mask.sum())\n",
    "        total_eval_loss += loss.item()\n",
    "    avg_eval_loss = total_eval_loss / len(test_loader)\n",
    "    print('Epoch:', '%04d' % (epoch + 1), 'train cost =', '{:.6f}'.format(avg_train_loss), 'eval cost =', '{:.6f}'.format(avg_eval_loss))\n",
    "\n",
    "average_train_acc, _ = evaluation.model_masked_label_accuracy(model, train_loader, device)\n",
    "average_test_acc, last_test_attention = evaluation.model_masked_label_accuracy(model, test_loader, device)\n",
    "print('Train Acc =', '{:.6f}'.format(average_train_acc), 'Eval Acc =', '{:.6f}'.format(average_test_acc))"
   ]
  },
  {
   "cell_type": "markdown",
   "metadata": {
    "id": "HCwFzQsxl4Cb"
   },
   "source": [
    "### 2.3. Visualize the Attentions (1 pt)\n",
    "\n",
    "Here, you can visualize the self-attention.\n",
    "\n",
    "Question: compare the visualization to Section 1.3, what can you find here? How do you explain it?\n",
    "\n",
    "**Write down you answer here (1 pt):**"
   ]
  },
  {
   "cell_type": "code",
   "execution_count": 15,
   "metadata": {
    "colab": {
     "referenced_widgets": [
      "76e8e64ca4384be6bd957e9d6a869cc3",
      "ab539e7b16944749ba3551b86fbb830b"
     ]
    },
    "id": "IZudyIeQl4Cb",
    "outputId": "c33cb6b3-b750-46b8-b86f-76a52111e89f",
    "tags": []
   },
   "outputs": [
    {
     "data": {
      "application/vnd.jupyter.widget-view+json": {
       "model_id": "bf65f4135f604f1e8c8db1852718f418",
       "version_major": 2,
       "version_minor": 0
      },
      "text/plain": [
       "HBox(children=(Dropdown(description='Sample:', options=(4, 13, 21, 25, 28, 30, 37, 38, 42, 45, 47, 50, 62, 77,…"
      ]
     },
     "metadata": {},
     "output_type": "display_data"
    },
    {
     "data": {
      "application/vnd.jupyter.widget-view+json": {
       "model_id": "951a06cdfae34b2b8550ecaf8b63e0e9",
       "version_major": 2,
       "version_minor": 0
      },
      "text/plain": [
       "Output()"
      ]
     },
     "metadata": {},
     "output_type": "display_data"
    }
   ],
   "source": [
    "visualize_attention, sample_id_selector, layer_selector, head_selector = visualization.display_multi_attantion(attentions=last_test_attention, tokenizer=tokenizer, input_ids=input_ids,  layers=range(1, num_layers+1),  heads=range(1, num_heads+1))\n",
    "ui = widgets.HBox([sample_id_selector, layer_selector, head_selector])\n",
    "out = widgets.interactive_output(visualize_attention, {'sample_id': sample_id_selector, 'layer': layer_selector, 'head': head_selector})\n",
    "display(ui, out)"
   ]
  },
  {
   "cell_type": "markdown",
   "metadata": {
    "id": "qweuBGv0l4Cb"
   },
   "source": [
    "**Answer:** First of all, we can see that in this implementation we have multiple attention layers as well as multiple attention heads. If we take more detailed look, we can observe that for the first layer in every head we get mostly darker horizontal lines in the attention map. But on the other layers, the attention weights matrix is mainly diagonal, which implies that the most significance is given to the contigous k-mers. This is as expected, because the information about masked k-mers can be inferred from the neighbouring ones (masking is not done randomly in this task because determining masked token would be trivial task in that case)."
   ]
  },
  {
   "cell_type": "markdown",
   "metadata": {
    "id": "DybTSGYvl4Cb"
   },
   "source": [
    "### 2.4. Use your pretrained model for promoter detection (5 pts)"
   ]
  },
  {
   "cell_type": "markdown",
   "metadata": {
    "id": "qbNDdTTql4Cb"
   },
   "source": [
    "You already have the embeddings for the DNA sequence. Now, you are going to build a classifier based on the DNA embeddings. The classifier is to perform promoter detection. Specifically, the DNA sequence will be classified into *'contains promoter'* or *'does not contain promoter'*.\n",
    "\n",
    "Hint:\n",
    "- We now want to annotate data (get the label for each sample), not predict masked data anymore!\n",
    "- You can reuse some parts of the code in the previous sections, e.g. dataloader and training pipeline in Section 2.2.\n",
    "- If you implement the previous section correctly (the Eval Acc > 0.2 in Section 2.2), you already have an pre-trained object named 'model' of class models.BertForMaskedLM. You can directly use it.\n",
    "- The evaluation accuracy of this task should be around 0.6."
   ]
  },
  {
   "cell_type": "markdown",
   "metadata": {
    "id": "zMs5gaYml4Cb"
   },
   "source": [
    "We define new model structure to use pretrained model. On top of the pretrained model we stack simple Linear layer that outputs single value (we have only two classes)."
   ]
  },
  {
   "cell_type": "markdown",
   "metadata": {
    "id": "deN9kZ1al4Cm"
   },
   "source": [
    "We need function that calculates accuracy on the selected data set."
   ]
  },
  {
   "cell_type": "code",
   "execution_count": 16,
   "metadata": {
    "tags": []
   },
   "outputs": [],
   "source": [
    "from sklearn.metrics import accuracy_score"
   ]
  },
  {
   "cell_type": "code",
   "execution_count": 17,
   "metadata": {
    "tags": []
   },
   "outputs": [],
   "source": [
    "def calculate_accuracy(model, data_loader):\n",
    "    \"\"\" \n",
    "    Calculates accuracy on specified dataset.\n",
    "    \n",
    "    Args:\n",
    "        model (nn.Module): model which accuracy we are calculating\n",
    "        data_loader: data loader for the dataset on which we are calculating accuracy\n",
    "        \n",
    "    Returns:\n",
    "        average accuracy on batch\n",
    "    \"\"\" \n",
    "    with torch.no_grad():\n",
    "        accuracy = 0\n",
    "        \n",
    "        for batch_input_ids, batch_class_labels in data_loader:\n",
    "            \n",
    "            batch = batch_input_ids.size(dim=0)\n",
    "            output = model(batch_input_ids)\n",
    "            output = output.view([batch])\n",
    "            \n",
    "            # Make prediction\n",
    "            prediction = (torch.sigmoid(output) > 0.5).float()\n",
    "            acc = accuracy_score(batch_class_labels.float(), prediction)\n",
    "            accuracy += acc\n",
    "   \n",
    "    return accuracy / len(data_loader)   "
   ]
  },
  {
   "cell_type": "markdown",
   "metadata": {},
   "source": [
    "This is a class that identifies our classifier (based on auxilary-task pretrained model and linear layer)."
   ]
  },
  {
   "cell_type": "code",
   "execution_count": 18,
   "metadata": {
    "tags": []
   },
   "outputs": [],
   "source": [
    "class BertPromoterDetection(nn.Module):\n",
    "    \"\"\" We use model pretrained on auxilary task for classification. \"\"\" \n",
    "    def __init__(self, model):\n",
    "        \"\"\" \n",
    "        Initialize model for classification task.\n",
    "        \n",
    "        Args:\n",
    "            model (BertForMaskedLM) : pretrained model\n",
    "        \"\"\" \n",
    "        \n",
    "        super().__init__()\n",
    "        self.model = model\n",
    "        \n",
    "        # For classification task, we need prediction head to be Linear layer\n",
    "        # We know last hidden size is 60\n",
    "        self.classifier = nn.Linear(60, 1)\n",
    "    \n",
    "    def forward(self, input_ids):\n",
    "        \"\"\" \n",
    "        We do forward pass on the new model with classification head.\n",
    "        \n",
    "        Args:\n",
    "            inputs necessary for auxilary task for pretraining\n",
    "        \n",
    "        Returns:\n",
    "            output: output from last (classification) layer\n",
    "        \"\"\"\n",
    "        _, hidden_states, _ = self.model(input_ids=input_ids)\n",
    "        \n",
    "        input_classifier = hidden_states[-1][:, 0, :]\n",
    "        output = self.classifier(input_classifier)\n",
    "        \n",
    "        return output"
   ]
  },
  {
   "cell_type": "code",
   "execution_count": 23,
   "metadata": {
    "tags": []
   },
   "outputs": [],
   "source": [
    "# ToDo: Define the classifier\n",
    "# Hint: We need only a binary classifier.\n",
    "# ToDo: Freeze BERT parameters\n",
    "# Hint: \n",
    "# 1. BERT is the 'model' you have trained in Section 2.2.\n",
    "# 2. Check Exercise 1 to see how to freeze a model (set requires_grad to False)\n",
    "for params in model.parameters():\n",
    "    params.requires_grad = False\n",
    "\n",
    "new_model = BertPromoterDetection(model)\n",
    "\n",
    "# ToDo: Train your classifier\n",
    "# Hint: \n",
    "# 1. Write the training pipeline (dataloader, optimizer, training loop ...)\n",
    "# 2. You can reuse the code from Section 2.2.\n",
    "# Here we get labels for classification task\n",
    "input_ids, class_labels = data.generate_labeled_data(raw_training_data, tokenizer, max_len=dna_max_len, max_size=dataset_size)\n",
    "test_input_ids, test_class_labels = data.generate_labeled_data(raw_test_data, tokenizer, max_len=dna_max_len, max_size=dataset_size)\n",
    "\n",
    "# Optimizer and Loss function\n",
    "optimizer = optim.AdamW(new_model.parameters(), lr=0.00002)\n",
    "loss_fn = nn.BCEWithLogitsLoss()\n",
    "\n",
    "# Dataloader\n",
    "train_dataset = TensorDataset(input_ids, class_labels)\n",
    "train_loader = DataLoader(train_dataset, batch_size=batch_size, shuffle=True)\n",
    "\n",
    "test_dataset = TensorDataset(test_input_ids, test_class_labels)\n",
    "test_loader = DataLoader(test_dataset, batch_size=batch_size, shuffle=False)"
   ]
  },
  {
   "cell_type": "code",
   "execution_count": 24,
   "metadata": {
    "tags": []
   },
   "outputs": [
    {
     "name": "stdout",
     "output_type": "stream",
     "text": [
      "Epoch: 0010 train cost = 0.318690 eval cost = 0.585619\n",
      "Epoch: 0020 train cost = 0.216798 eval cost = 0.574445\n",
      "Epoch: 0030 train cost = 0.154476 eval cost = 0.585957\n",
      "Epoch: 0040 train cost = 0.114917 eval cost = 0.607759\n",
      "Epoch: 0050 train cost = 0.087917 eval cost = 0.634292\n",
      "Train Acc = 1.000000 Eval Acc = 0.733173\n"
     ]
    }
   ],
   "source": [
    "# Train and Evaluation loop\n",
    "for epoch in range(50):\n",
    "    \n",
    "    total_train_loss = 0\n",
    "    \n",
    "    for batch_input_ids, batch_class_labels in train_loader:\n",
    "    \n",
    "        batch = batch_input_ids.size(dim=0)\n",
    "        #print(batch)\n",
    "        optimizer.zero_grad()\n",
    "    \n",
    "        output = new_model(batch_input_ids)\n",
    "        output = output.view([batch])\n",
    "        loss = loss_fn(output, batch_class_labels.float())\n",
    "    \n",
    "        loss.backward()\n",
    "        optimizer.step()\n",
    "    \n",
    "        # Add up to loss\n",
    "        total_train_loss += loss.item()\n",
    "    \n",
    "    avg_train_loss = total_train_loss / len(train_loader)\n",
    "   \n",
    "    if (epoch + 1) % 10 == 0:\n",
    "        \n",
    "        model.eval()\n",
    "        total_eval_loss = 0\n",
    "        \n",
    "        for batch_input_ids, batch_class_labels in test_loader:\n",
    "            \n",
    "            batch = batch_input_ids.size(dim=0)\n",
    "            \n",
    "            with torch.no_grad():\n",
    "                output = new_model(batch_input_ids)\n",
    "                output = output.view([batch])\n",
    "                loss = loss_fn(output, batch_class_labels.float())\n",
    "                total_eval_loss += loss.item()\n",
    "    \n",
    "        avg_eval_loss = total_eval_loss / len(test_loader)\n",
    "        print('Epoch:', '%04d' % (epoch + 1), 'train cost =', '{:.6f}'.format(avg_train_loss), 'eval cost =', '{:.6f}'.format(avg_eval_loss)) \n",
    "\n",
    "average_train_acc = calculate_accuracy(new_model, train_loader)\n",
    "average_test_acc = calculate_accuracy(new_model, test_loader)\n",
    "print('Train Acc =', '{:.6f}'.format(average_train_acc), 'Eval Acc =', '{:.6f}'.format(average_test_acc))"
   ]
  },
  {
   "cell_type": "markdown",
   "metadata": {
    "id": "L99F25eFl4Cn"
   },
   "source": [
    "As we can see, we get accuracy that is very high."
   ]
  },
  {
   "cell_type": "markdown",
   "metadata": {
    "id": "nPaAEyu7l4Cn"
   },
   "source": [
    "### 2.5. Additional question (1 pt)\n",
    "\n",
    "Now we change mask_length = 1 (already changed, you do not need to implement anything).\n",
    "Let's run the code below and check the accuracy.\n",
    "\n",
    "Question: What is the final masked token prediction accuracy? How do you explain this?\n",
    "\n",
    "**Write down you answer here (1 pt):**"
   ]
  },
  {
   "cell_type": "code",
   "execution_count": 25,
   "metadata": {
    "id": "AgFuSz7Yl4Cn",
    "outputId": "d2718b78-7f54-4c7b-96fd-5fa09e487c6a",
    "tags": []
   },
   "outputs": [
    {
     "name": "stdout",
     "output_type": "stream",
     "text": [
      "Number of trainable model parameters: 118329\n",
      "Epoch: 0010 train cost = 3.990286 eval cost = 4.046587\n",
      "Epoch: 0020 train cost = 3.778393 eval cost = 3.913226\n",
      "Epoch: 0030 train cost = 2.793202 eval cost = 2.953049\n",
      "Epoch: 0040 train cost = 1.251711 eval cost = 1.394593\n",
      "Epoch: 0050 train cost = 0.330598 eval cost = 0.592868\n",
      "Train Acc = 0.948628 Eval Acc = 0.911924\n"
     ]
    }
   ],
   "source": [
    "kmer = 3\n",
    "mask_length = 1\n",
    "\n",
    "dna_max_len = 300\n",
    "batch_size = 128\n",
    "max_dna_mask = 100\n",
    "dataset_size = 1000\n",
    "num_layers = 3\n",
    "num_heads = 6\n",
    "dna_config = SimpleNamespace(\n",
    "        vocab_size=len(VOCAB_3MER),\n",
    "        hidden_size=60,\n",
    "        max_position_embeddings=dna_max_len,\n",
    "        type_vocab_size=1,\n",
    "        layer_norm_eps=1e-12,\n",
    "        hidden_dropout_prob=0.0,\n",
    "        attention_probs_dropout_prob=0.0,\n",
    "        num_attention_heads=num_heads,\n",
    "        hidden_act=\"gelu\",\n",
    "        intermediate_size=160,\n",
    "        num_hidden_layers=num_layers,\n",
    "        is_decoder=False,\n",
    "        output_attentions=True,\n",
    "        output_hidden_states=True,\n",
    "        pruned_heads = {},\n",
    "        initializer_range=0.02,\n",
    "        device=device\n",
    "    )\n",
    "\n",
    "tokenizer = DNATokenizer(k=3, vocab=VOCAB_3MER)\n",
    "input_ids, segment_ids, masked_lm_labels, labels_idx, labels, attention_masks = data.generate_masked_data(raw_training_data, tokenizer, max_len=dna_max_len, max_mask=max_dna_mask, k=mask_length, mask_rate=0.05, max_size=dataset_size)\n",
    "test_input_ids, test_segment_ids, test_masked_lm_labels, test_labels_idx, test_labels, test_attention_masks = data.generate_masked_data(raw_test_data, tokenizer, max_len=dna_max_len, max_mask=max_dna_mask, k=mask_length, mask_rate=0.05, max_size=dataset_size)\n",
    "model = models.BertForMaskedLM(config=dna_config, positional_embedding=PositionalEmbedding, attention=BertSelfAttention).to(device)\n",
    "optimizer = optim.AdamW(model.parameters(), lr=0.002)\n",
    "print(f\"Number of trainable model parameters: {models.number_of_model_parameters(model)}\")\n",
    "\n",
    "train_dataset = TensorDataset(input_ids, segment_ids, masked_lm_labels, labels_idx, labels, attention_masks)\n",
    "train_loader = DataLoader(train_dataset, batch_size=batch_size, shuffle=True)\n",
    "\n",
    "test_dataset = TensorDataset(test_input_ids, test_segment_ids, test_masked_lm_labels, test_labels_idx, test_labels, test_attention_masks)\n",
    "test_loader = DataLoader(test_dataset, batch_size=batch_size, shuffle=False)\n",
    "\n",
    "for epoch in range(50):\n",
    "  total_train_loss = 0\n",
    "  model.train()\n",
    "  for batch_input_ids, batch_segment_ids, batch_masked_lm_labels, _, _, batch_attention_mask in train_loader:\n",
    "    optimizer.zero_grad()\n",
    "    loss, outputs, hidden_states, _ = model(\n",
    "        input_ids=batch_input_ids.to(device),\n",
    "        token_type_ids=batch_segment_ids.to(device),\n",
    "        masked_lm_labels=batch_masked_lm_labels.to(device),\n",
    "        attention_mask=batch_attention_mask.to(device)\n",
    "    )\n",
    "    loss.backward()\n",
    "    optimizer.step()\n",
    "    total_train_loss += loss.item()\n",
    "  avg_train_loss = total_train_loss / len(train_loader)\n",
    "\n",
    "  if (epoch + 1) % 10 == 0:\n",
    "    model.eval()\n",
    "    total_eval_loss = 0\n",
    "    for batch_input_ids, batch_segment_ids, batch_masked_lm_labels, _, _, batch_attention_mask in test_loader:\n",
    "      with torch.no_grad():\n",
    "        loss, outputs, hidden_states, _ = model(\n",
    "          input_ids=batch_input_ids.to(device),\n",
    "          token_type_ids=batch_segment_ids.to(device),\n",
    "          masked_lm_labels=batch_masked_lm_labels.to(device),\n",
    "          attention_mask=batch_attention_mask.to(device)\n",
    "        )\n",
    "        if batch_attention_mask.sum() - torch.numel(batch_attention_mask) > 0 :\n",
    "          print(\"found patting\", batch_attention_mask.sum())\n",
    "        total_eval_loss += loss.item()\n",
    "    avg_eval_loss = total_eval_loss / len(test_loader)\n",
    "    print('Epoch:', '%04d' % (epoch + 1), 'train cost =', '{:.6f}'.format(avg_train_loss), 'eval cost =', '{:.6f}'.format(avg_eval_loss))\n",
    "\n",
    "average_train_acc, _ = evaluation.model_masked_label_accuracy(model, train_loader, device)\n",
    "average_test_acc, last_test_attention = evaluation.model_masked_label_accuracy(model, test_loader, device)\n",
    "print('Train Acc =', '{:.6f}'.format(average_train_acc), 'Eval Acc =', '{:.6f}'.format(average_test_acc))"
   ]
  },
  {
   "cell_type": "markdown",
   "metadata": {
    "id": "VeVfeTYcl4Cn"
   },
   "source": [
    "**Answer:** When we give set smaller parameter *mask_lenght*, we an accuracy that is way better than the one in the case where *mask_length* is larger. *Mask_lenght* parameter denotes how many consecutive tokens is going to be masked. The case when *mask_lenght* = 1 is practically the same as randomly masking tokens in the sequence, which we previosuly explained that is trivial task, because the masked token can be determined by its neighbouring tokens. That is the reason why the accuracy is so high."
   ]
  },
  {
   "cell_type": "markdown",
   "metadata": {
    "id": "fuTiBL9Cl4Cn"
   },
   "source": [
    "## 3. Using foundation model (5 pts)"
   ]
  },
  {
   "cell_type": "markdown",
   "metadata": {
    "id": "JkP3g65yl4Co"
   },
   "source": [
    "### 3.1. Introduction\n",
    "\n",
    "In this section, we aim to use a foundation model, DNABERT, to perform promoter detection.\n",
    "A foundation model is a model pretrained on large datasets. Foundation models serve as the foundational building blocks upon which various applications can be constructed.\n",
    "\n",
    "Here, we use DNABERT as the foundation model. We first apply it on DNA sequence to get the embedding. Then, we train a classifier on the embedding as in Section 2. Please follow this [link](https://github.com/Zhihan1996/DNABERT_2) to load the foundation model."
   ]
  },
  {
   "cell_type": "markdown",
   "metadata": {
    "id": "in4meAiSl4Co"
   },
   "source": [
    "### 3.2. Implementation\n",
    "\n",
    "**Consider this situation:** You get a dataset about promoter detection, and you build your model to perform the task as in Section 2. However, the performance is not good since the model is not strong enough. Suddenly, you think we can use a large pre-trained model to embed DNA sequences. Then, you search online and find the pre-trained model [DNABERT](https://github.com/Zhihan1996/DNABERT_2). Now, you want to perform promoter detection using the pre-trained DNABERT.\n",
    "\n",
    "There is no coding framework in this section. Just make things work (get good test accuracy) using the pre-trained model!\n",
    "\n",
    "Hint:\n",
    "- We encourage you to create a **new environment** following the instructions of Section 3 in this [link](https://github.com/Zhihan1996/DNABERT_2). (When you face the error \"The model class you are passing has a config_class attribute that is not consistent with the config class you passed ...\", creating a new environment can save you.)\n",
    "- Section 4 in this [link](https://github.com/Zhihan1996/DNABERT_2) shows you how to load and use the pre-trained foundation model."
   ]
  },
  {
   "cell_type": "markdown",
   "metadata": {
    "id": "OUi-UZF4l4Co"
   },
   "source": [
    "a. Load the dataset."
   ]
  },
  {
   "cell_type": "code",
   "execution_count": 3,
   "metadata": {
    "id": "1PNdRw2vl4Co",
    "tags": []
   },
   "outputs": [],
   "source": [
    "# ToDo: Load the train and test datasets from train.csv and test.csv\n",
    "# Hint: check Section 2.2.\n",
    "raw_training_data = data.load_csv(\"./data/train.csv\")\n",
    "raw_test_data = data.load_csv(\"./data/test.csv\")\n",
    "\n",
    "# Take sequences and their coresponding labels\n",
    "train_sequences = raw_training_data['sequence']\n",
    "train_labels = raw_training_data['label'].values\n",
    "\n",
    "test_sequences = raw_test_data['sequence']\n",
    "test_labels = raw_test_data['label'].values"
   ]
  },
  {
   "cell_type": "markdown",
   "metadata": {
    "id": "SCH_RnH5l4Co"
   },
   "source": [
    "b. Get the embeddings of the DNA sequences using pretrained model.\n",
    "\n",
    "Hint:\n",
    "- This step can take some time. Thus, you can start with a small sample size, and then increase it when you have made sure that everything works correctly.\n",
    "- After getting the embeddings, you can save them so that you can directly load them next time without running the foundation model.\n",
    "\n",
    "**NOTE:** Obtaining embeddings for the sequences is heavy task in terms of both memory and time consumption. The notebook had to be run in the Google Collab and the procedure for getting the embeddings is such that, the embeddings are immediately written in the *.csv* file, so the Collab would not crash in the process."
   ]
  },
  {
   "cell_type": "code",
   "execution_count": 4,
   "metadata": {
    "colab": {
     "base_uri": "https://localhost:8080/",
     "height": 257,
     "referenced_widgets": [
      "be01a4731a4644a3a2b20c9474b592f9",
      "d31ae5f3c2364fbf996fd25f577860ad",
      "fef5aa8989d24230b479827771e8c606",
      "090909bdb33f4446a70de55f3e13bcbd",
      "e8f744d3d7ab4c0c969b1e57bee9f09e",
      "dfcf13654d324c46a7085ebda4c8253c",
      "51cc1ad5285d448c9c701f9bdbaa8581",
      "5763c642c0924ad2af27cef44ddce806",
      "9369692ae1d444bbaed165ef90a49254",
      "5b9fbb05296a45d2a5dc9f0bce9c4b52",
      "41eedea087254955acd15441dee7f264",
      "a197bf7cb9764495bf3d9b2841e2ac43",
      "f718d61153f749d8b75ddad983ac851c",
      "6637dead632641e3bb861d09aaa37673",
      "9cd86cbe740241c2a063886a091c5d78",
      "f0fc4ec74fa241868230c66af631ac56",
      "342ddc8b488940b09f2ae4f03bf9eeb0",
      "c0d85c084b384d57887ab1ba09a1ae3d",
      "9d4c2979086443cf95deb3b29d1089c6",
      "dafa2db7d7ec423cb5aa3a64c48b8e9d",
      "50989141900d4d40bdf24b41aa00fe9a",
      "e4fd1e3995ce4553b936d29c98b9f53c",
      "7fd821bf69ef4910a71249d31bc18c81",
      "40d9adfc823d4e4bad59d4667d87b501",
      "e8a03a4deef646c89b3c9914b0599b03",
      "086c9c2352984ea6a26a27131c677d73",
      "d595d14e5df749c7acd8ffa5223d341f",
      "d6dd659360c3473c9278791e4c06ad44",
      "502b9ebc1fc5440bbf8818a2b48adab2",
      "a8945a8a7d654f24bcf60451cfc5f1e6",
      "e7349e4a81d8434781a5bc1b94bb6e61",
      "3dcabad77cdf4b2dba7fab325c160130",
      "353ee18148144a829aa8b499458a5f0e",
      "f4569a481830469d8ec19f905c8817bd",
      "be1966c3051e47ac9202121dc1660acd",
      "9e8c8998d52a4470832005647e2836f4",
      "1fd93ce3f48b4f679038cdb895c712cf",
      "c4f6d9eff5824373a3f22cc5fa2d4437",
      "0be958c488394cb5b220ed2b32d0c155",
      "66fbe464c199401d8abe811ca6538174",
      "5d48177069cc4de498a306a1268b9215",
      "547a494a44e84b5990ad2056d508d47b",
      "53bb33d9a63547adb382f207b1c73568",
      "d7954114ae224f2bafde947662a5b5c3"
     ]
    },
    "id": "YL_L_svgl4Co",
    "outputId": "b311a8e0-85ec-4d81-bb63-6ab815c6a21a",
    "tags": []
   },
   "outputs": [],
   "source": [
    "# ToDo: Load the pretrained DNABERT model and use this to get the embeddings of the train and test DNA sequences.\n",
    "# Hint: Check section Quick Start on https://github.com/Zhihan1996/DNABERT_2\n",
    "\n",
    "tokenizer = AutoTokenizer.from_pretrained(\"zhihan1996/DNABERT-2-117M\") # deleted second recommended argument, because it was causing error\n",
    "model = AutoModel.from_pretrained(\"zhihan1996/DNABERT-2-117M\")\n",
    "\n",
    "import csv\n",
    "from csv import writer"
   ]
  },
  {
   "cell_type": "markdown",
   "metadata": {
    "id": "IgGLG19Dl4Co",
    "tags": []
   },
   "source": [
    "In this cell, we are going to implement function that obtaines tokens for every DNA sequence. It should be noted that this function is very time-consuming and that embeddings were obtained by running it on the Google colab. As only 1000 samples were used for training on the BERT model, same amount was used here, to have more relevant comparison. The classification was done based on the 'CLS' token."
   ]
  },
  {
   "cell_type": "code",
   "execution_count": 5,
   "metadata": {
    "id": "8boJZrIGEvIJ",
    "tags": []
   },
   "outputs": [],
   "source": [
    "def get_embeddings(path, dataset, model, tokenizer, num_rows):\n",
    "  \"\"\"\n",
    "  Function that obtains embeddings for every sequence using DNABERT foundation model and stores them in .csv.\n",
    "\n",
    "  Args:\n",
    "      path (file path): path of the file in which we are storing the embeddings\n",
    "      dataset (pd.DataFrame): dataset containing the sequences for which we are getting embedddings\n",
    "      model (DNABERT): foundation model\n",
    "      tokenizer: for tokenizing the input sequence\n",
    "      num_rows (int): number of rows to be extracted from the dataset\n",
    "\n",
    "  \"\"\"\n",
    "\n",
    "  length = dataset.shape[0]\n",
    "  with open(path, 'a') as f_object:\n",
    "    writer_object = writer(f_object)\n",
    "\n",
    "    for i in range(length):\n",
    "      if i % 1000 == 0:\n",
    "        print(i)\n",
    "      inputs = tokenizer(dataset[i], return_tensors = 'pt')[\"input_ids\"]\n",
    "\n",
    "      with torch.no_grad():\n",
    "        hidden_states = model(inputs)[0]\n",
    "        hidden_states = hidden_states[0]\n",
    "        embedding = hidden_states[0, :]\n",
    "      \n",
    "        embedding = embedding.numpy()\n",
    "        writer_object.writerow(embedding)  \n",
    "\n",
    "      if i == num_rows-1:\n",
    "        break\n",
    "\n",
    "  f_object.close()"
   ]
  },
  {
   "cell_type": "code",
   "execution_count": 6,
   "metadata": {
    "colab": {
     "base_uri": "https://localhost:8080/",
     "height": 1000
    },
    "id": "6UPmXVA9G13F",
    "outputId": "0abfb28d-80ea-457a-a466-66154d298169",
    "tags": []
   },
   "outputs": [],
   "source": [
    "# These comands are just to get the embeddings of the sequences stored in the .csv file\n",
    "#path = \"/content/drive/MyDrive/Homework3/data/train_dnabert1.csv\"\n",
    "#num_rows = 1000\n",
    "#get_embeddings(path, test_sequences, model, tokenizer, num_rows)"
   ]
  },
  {
   "cell_type": "code",
   "execution_count": 7,
   "metadata": {
    "colab": {
     "base_uri": "https://localhost:8080/"
    },
    "id": "rq-gpNI5Jtla",
    "outputId": "5a0973d8-e9f6-4ccf-b936-64440b26e795",
    "tags": []
   },
   "outputs": [],
   "source": [
    "path_train = \"./data/train_dnabert3.csv\"\n",
    "path_test = \"./data/test_dnabert3.csv\"\n",
    "\n",
    "# Load train embeddings and train labels\n",
    "train_embeddings = np.loadtxt(path_train, delimiter=',', dtype=float)\n",
    "train_embeddings = torch.tensor(train_embeddings)\n",
    "train_labels = torch.tensor(train_labels[0:1000])\n",
    "\n",
    "# Load test embeddings and test labels\n",
    "test_embeddings = np.loadtxt(path_test, delimiter=',', dtype=float)\n",
    "test_embeddings = torch.tensor(test_embeddings)\n",
    "test_labels = torch.tensor(test_labels[0:1000])"
   ]
  },
  {
   "cell_type": "code",
   "execution_count": 9,
   "metadata": {
    "colab": {
     "base_uri": "https://localhost:8080/"
    },
    "id": "yS6yJrDCl4Co",
    "outputId": "12758159-02e4-44f7-d39c-d8907650186a",
    "tags": []
   },
   "outputs": [
    {
     "data": {
      "image/png": "[encoded data removed]",
      "text/plain": [
       "<Figure size 1400x1000 with 1 Axes>"
      ]
     },
     "metadata": {},
     "output_type": "display_data"
    }
   ],
   "source": [
    "# ToDo: Using tsne or umap to visualize the embedding space.\n",
    "# Hint: you can import other packages here for visualization.\n",
    "import umap\n",
    "import seaborn as sns\n",
    "import matplotlib.pyplot as plt\n",
    "\n",
    "reducer = umap.UMAP()\n",
    "vizualization = reducer.fit_transform(train_embeddings)\n",
    "\n",
    "ones_label = torch.argwhere(train_labels).squeeze(-1).tolist()\n",
    "zeros_label = (train_labels == 0).nonzero().squeeze(-1).tolist()\n",
    "sns.set(style='white', context='notebook', rc={'figure.figsize':(14,10)})\n",
    "plt.scatter(\n",
    "    vizualization[ones_label, 0],\n",
    "    vizualization[ones_label, 1], label='tab:blue')\n",
    "plt.scatter(\n",
    "    vizualization[zeros_label, 0],\n",
    "    vizualization[zeros_label, 1], label='tab:orange'\n",
    ")\n",
    "plt.title(\"Vizualization of 2D embedding space for promoter detection using DNABERT\")\n",
    "plt.legend(['label 1', 'label 0'])\n",
    "plt.grid(visible=True)\n",
    "plt.show()"
   ]
  },
  {
   "cell_type": "markdown",
   "metadata": {},
   "source": [
    "As we can se from the plot of embeddings, we don't have really convenient separation between two classes."
   ]
  },
  {
   "cell_type": "code",
   "execution_count": 158,
   "metadata": {
    "id": "eM4nb3BDVF39",
    "tags": []
   },
   "outputs": [],
   "source": [
    "batch_size = 128\n",
    "train_dataset = TensorDataset(train_embeddings, train_labels)\n",
    "train_loader = DataLoader(train_dataset, batch_size=batch_size, shuffle=True)\n",
    "\n",
    "test_dataset = TensorDataset(test_embeddings, test_labels)\n",
    "test_loader = DataLoader(test_dataset, batch_size=batch_size, shuffle=False)"
   ]
  },
  {
   "cell_type": "markdown",
   "metadata": {
    "id": "GUnQr9All4Co"
   },
   "source": [
    "c. Train a classifier.\n",
    "\n",
    "Hint: It is easy to overfit on the training set. Try to avoid overfitting."
   ]
  },
  {
   "cell_type": "code",
   "execution_count": 162,
   "metadata": {
    "id": "ya8NQ0muWQgd",
    "tags": []
   },
   "outputs": [],
   "source": [
    "# Define model classifier\n",
    "class classifier(nn.Module):\n",
    "    \"\"\" Classifert for promoter sequence detection. \"\"\"\n",
    "    def __init__(self):\n",
    "        super().__init__()\n",
    "    \n",
    "        # Linear layers\n",
    "        self.layer1 = nn.Linear(768, 256)\n",
    "        self.layer2 = nn.Linear(256, 128)\n",
    "        self.layer3 = nn.Linear(128, 1)\n",
    "    \n",
    "        # Activation function\n",
    "        self.activation = nn.ReLU()\n",
    "\n",
    "    def forward(self, input):\n",
    "        \"\"\" Only input is the embeddings for the sequence obtained using pre-trained model. \"\"\"\n",
    "        # Layer 1\n",
    "        output = self.layer1(input)\n",
    "        output = self.activation(output)\n",
    "        output = F.dropout(output, p=0.05, training=self.training)\n",
    "    \n",
    "        # Layer 2\n",
    "        output = self.layer2(output)\n",
    "        output = self.activation(output)\n",
    "        output = F.dropout(output, p=0.05, training=self.training)\n",
    "        \n",
    "        #Layer3\n",
    "        output = self.layer3(output)\n",
    "\n",
    "        return output"
   ]
  },
  {
   "cell_type": "code",
   "execution_count": 163,
   "metadata": {
    "id": "_oSE7aA2YzZ6",
    "tags": []
   },
   "outputs": [],
   "source": [
    "def calculate_accuracy_dnabert(model, data_loader):\n",
    "  with torch.no_grad():\n",
    "        accuracy = 0\n",
    "\n",
    "        for batch_input_ids, batch_class_labels in data_loader:\n",
    "\n",
    "            batch = batch_input_ids.size(dim=0)\n",
    "            output = model(batch_input_ids.float())\n",
    "            output = output.view([batch])\n",
    "\n",
    "            # Make prediction\n",
    "            prediction = (torch.sigmoid(output) > 0.5).float()\n",
    "            acc = accuracy_score(batch_class_labels.float(), prediction)\n",
    "            accuracy += acc\n",
    "\n",
    "  return accuracy / len(data_loader)"
   ]
  },
  {
   "cell_type": "code",
   "execution_count": 164,
   "metadata": {
    "colab": {
     "base_uri": "https://localhost:8080/"
    },
    "id": "kOPs_ssBXNLK",
    "outputId": "99425944-6ed1-4d5d-8d9b-a2b2cc05814a",
    "tags": []
   },
   "outputs": [
    {
     "name": "stdout",
     "output_type": "stream",
     "text": [
      "Epoch: 0010 train cost = 0.661360 eval cost = 0.673726\n",
      "Epoch: 0020 train cost = 0.555745 eval cost = 0.694198\n",
      "Epoch: 0030 train cost = 0.500147 eval cost = 0.750516\n",
      "Epoch: 0040 train cost = 0.480306 eval cost = 0.721662\n",
      "Epoch: 0050 train cost = 0.474005 eval cost = 0.760924\n",
      "Epoch: 0060 train cost = 0.448237 eval cost = 0.719558\n",
      "Epoch: 0070 train cost = 0.530804 eval cost = 0.808099\n",
      "Epoch: 0080 train cost = 0.418012 eval cost = 0.747847\n",
      "Epoch: 0090 train cost = 0.398408 eval cost = 0.716527\n",
      "Epoch: 0100 train cost = 0.377539 eval cost = 0.862849\n",
      "Train Acc = 0.803185 Eval Acc = 0.642353\n"
     ]
    }
   ],
   "source": [
    "# Train loop\n",
    "model_classifier = classifier()\n",
    "loss_fn = nn.BCEWithLogitsLoss()\n",
    "optimizer = optim.AdamW(model_classifier.parameters(), lr=0.001)\n",
    "\n",
    "for epoch in range(100):\n",
    "\n",
    "    total_train_loss = 0\n",
    "\n",
    "    for batch_input_ids, batch_class_labels in train_loader:\n",
    "\n",
    "        batch = batch_input_ids.size(dim=0)\n",
    "        #print(batch)\n",
    "        optimizer.zero_grad()\n",
    "\n",
    "        output = model_classifier(batch_input_ids.float())\n",
    "        output = output.view([batch])\n",
    "        loss = loss_fn(output, batch_class_labels.float())\n",
    "        #print(batch_class_labels.float())\n",
    "\n",
    "        loss.backward()\n",
    "        optimizer.step()\n",
    "\n",
    "        # Add up to loss\n",
    "        total_train_loss += loss.item()\n",
    "\n",
    "    avg_train_loss = total_train_loss / len(train_loader)\n",
    "\n",
    "    if (epoch + 1) % 10 == 0:\n",
    "\n",
    "        model.eval()\n",
    "        total_eval_loss = 0\n",
    "\n",
    "        for batch_input_ids, batch_class_labels in test_loader:\n",
    "\n",
    "            batch = batch_input_ids.size(dim=0)\n",
    "\n",
    "            with torch.no_grad():\n",
    "                output = model_classifier(batch_input_ids.float())\n",
    "                output = output.view([batch])\n",
    "                loss = loss_fn(output, batch_class_labels.float())\n",
    "                total_eval_loss += loss.item()\n",
    "\n",
    "        avg_eval_loss = total_eval_loss / len(test_loader)\n",
    "        print('Epoch:', '%04d' % (epoch + 1), 'train cost =', '{:.6f}'.format(avg_train_loss), 'eval cost =', '{:.6f}'.format(avg_eval_loss))\n",
    "\n",
    "average_train_acc = calculate_accuracy_dnabert(model_classifier, train_loader)\n",
    "average_test_acc = calculate_accuracy_dnabert(model_classifier, test_loader)\n",
    "print('Train Acc =', '{:.6f}'.format(average_train_acc), 'Eval Acc =', '{:.6f}'.format(average_test_acc))"
   ]
  },
  {
   "cell_type": "markdown",
   "metadata": {},
   "source": [
    "As we can see, there is slight overfit. To try to avoid it, I tried with different approaches, from larger dropout probability to stronger regularization, but accuracy was constantly around 0.65. I also tried training on the dataset with more DNA sequences and different network arhitectures, but that was also giving me similar results. "
   ]
  }
 ],
 "metadata": {
  "colab": {
   "provenance": []
  },
  "kernelspec": {
   "display_name": "Python 3 (ipykernel)",
   "language": "python",
   "name": "python3"
  },
  "language_info": {
   "codemirror_mode": {
    "name": "ipython",
    "version": 3
   },
   "file_extension": ".py",
   "mimetype": "text/x-python",
   "name": "python",
   "nbconvert_exporter": "python",
   "pygments_lexer": "ipython3",
   "version": "3.11.6"
  },
  "toc": {
   "colors": {
    "hover_highlight": "#DAA520",
    "navigate_num": "#000000",
    "navigate_text": "#333333",
    "running_highlight": "#FF0000",
    "selected_highlight": "#FFD700",
    "sidebar_border": "#EEEEEE",
    "wrapper_background": "#FFFFFF"
   },
   "moveMenuLeft": true,
   "nav_menu": {
    "height": "264px",
    "width": "252px"
   },
   "navigate_menu": true,
   "number_sections": true,
   "sideBar": true,
   "threshold": 4,
   "toc_cell": false,
   "toc_section_display": "block",
   "toc_window_display": false,
   "widenNotebook": false
  },
  "widgets": {
   "application/vnd.jupyter.widget-state+json": {
    "02637843f2944af9bea5051a7d94096d": {
     "model_module": "@jupyter-widgets/base",
     "model_module_version": "1.2.0",
     "model_name": "LayoutModel",
     "state": {
      "_model_module": "@jupyter-widgets/base",
      "_model_module_version": "1.2.0",
      "_model_name": "LayoutModel",
      "_view_count": null,
      "_view_module": "@jupyter-widgets/base",
      "_view_module_version": "1.2.0",
      "_view_name": "LayoutView",
      "align_content": null,
      "align_items": null,
      "align_self": null,
      "border": null,
      "bottom": null,
      "display": null,
      "flex": null,
      "flex_flow": null,
      "grid_area": null,
      "grid_auto_columns": null,
      "grid_auto_flow": null,
      "grid_auto_rows": null,
      "grid_column": null,
      "grid_gap": null,
      "grid_row": null,
      "grid_template_areas": null,
      "grid_template_columns": null,
      "grid_template_rows": null,
      "height": null,
      "justify_content": null,
      "justify_items": null,
      "left": null,
      "margin": null,
      "max_height": null,
      "max_width": null,
      "min_height": null,
      "min_width": null,
      "object_fit": null,
      "object_position": null,
      "order": null,
      "overflow": null,
      "overflow_x": null,
      "overflow_y": null,
      "padding": null,
      "right": null,
      "top": null,
      "visibility": null,
      "width": null
     }
    },
    "086c9c2352984ea6a26a27131c677d73": {
     "model_module": "@jupyter-widgets/controls",
     "model_module_version": "1.5.0",
     "model_name": "HTMLModel",
     "state": {
      "_dom_classes": [],
      "_model_module": "@jupyter-widgets/controls",
      "_model_module_version": "1.5.0",
      "_model_name": "HTMLModel",
      "_view_count": null,
      "_view_module": "@jupyter-widgets/controls",
      "_view_module_version": "1.5.0",
      "_view_name": "HTMLView",
      "description": "",
      "description_tooltip": null,
      "layout": "IPY_MODEL_3dcabad77cdf4b2dba7fab325c160130",
      "placeholder": "​",
      "style": "IPY_MODEL_353ee18148144a829aa8b499458a5f0e",
      "value": " 862/862 [00:00&lt;00:00, 35.2kB/s]"
     }
    },
    "090909bdb33f4446a70de55f3e13bcbd": {
     "model_module": "@jupyter-widgets/controls",
     "model_module_version": "1.5.0",
     "model_name": "HTMLModel",
     "state": {
      "_dom_classes": [],
      "_model_module": "@jupyter-widgets/controls",
      "_model_module_version": "1.5.0",
      "_model_name": "HTMLModel",
      "_view_count": null,
      "_view_module": "@jupyter-widgets/controls",
      "_view_module_version": "1.5.0",
      "_view_name": "HTMLView",
      "description": "",
      "description_tooltip": null,
      "layout": "IPY_MODEL_5b9fbb05296a45d2a5dc9f0bce9c4b52",
      "placeholder": "​",
      "style": "IPY_MODEL_41eedea087254955acd15441dee7f264",
      "value": " 158/158 [00:00&lt;00:00, 6.03kB/s]"
     }
    },
    "0be958c488394cb5b220ed2b32d0c155": {
     "model_module": "@jupyter-widgets/base",
     "model_module_version": "1.2.0",
     "model_name": "LayoutModel",
     "state": {
      "_model_module": "@jupyter-widgets/base",
      "_model_module_version": "1.2.0",
      "_model_name": "LayoutModel",
      "_view_count": null,
      "_view_module": "@jupyter-widgets/base",
      "_view_module_version": "1.2.0",
      "_view_name": "LayoutView",
      "align_content": null,
      "align_items": null,
      "align_self": null,
      "border": null,
      "bottom": null,
      "display": null,
      "flex": null,
      "flex_flow": null,
      "grid_area": null,
      "grid_auto_columns": null,
      "grid_auto_flow": null,
      "grid_auto_rows": null,
      "grid_column": null,
      "grid_gap": null,
      "grid_row": null,
      "grid_template_areas": null,
      "grid_template_columns": null,
      "grid_template_rows": null,
      "height": null,
      "justify_content": null,
      "justify_items": null,
      "left": null,
      "margin": null,
      "max_height": null,
      "max_width": null,
      "min_height": null,
      "min_width": null,
      "object_fit": null,
      "object_position": null,
      "order": null,
      "overflow": null,
      "overflow_x": null,
      "overflow_y": null,
      "padding": null,
      "right": null,
      "top": null,
      "visibility": null,
      "width": null
     }
    },
    "1fd93ce3f48b4f679038cdb895c712cf": {
     "model_module": "@jupyter-widgets/controls",
     "model_module_version": "1.5.0",
     "model_name": "HTMLModel",
     "state": {
      "_dom_classes": [],
      "_model_module": "@jupyter-widgets/controls",
      "_model_module_version": "1.5.0",
      "_model_name": "HTMLModel",
      "_view_count": null,
      "_view_module": "@jupyter-widgets/controls",
      "_view_module_version": "1.5.0",
      "_view_name": "HTMLView",
      "description": "",
      "description_tooltip": null,
      "layout": "IPY_MODEL_53bb33d9a63547adb382f207b1c73568",
      "placeholder": "​",
      "style": "IPY_MODEL_d7954114ae224f2bafde947662a5b5c3",
      "value": " 468M/468M [00:11&lt;00:00, 29.2MB/s]"
     }
    },
    "342ddc8b488940b09f2ae4f03bf9eeb0": {
     "model_module": "@jupyter-widgets/base",
     "model_module_version": "1.2.0",
     "model_name": "LayoutModel",
     "state": {
      "_model_module": "@jupyter-widgets/base",
      "_model_module_version": "1.2.0",
      "_model_name": "LayoutModel",
      "_view_count": null,
      "_view_module": "@jupyter-widgets/base",
      "_view_module_version": "1.2.0",
      "_view_name": "LayoutView",
      "align_content": null,
      "align_items": null,
      "align_self": null,
      "border": null,
      "bottom": null,
      "display": null,
      "flex": null,
      "flex_flow": null,
      "grid_area": null,
      "grid_auto_columns": null,
      "grid_auto_flow": null,
      "grid_auto_rows": null,
      "grid_column": null,
      "grid_gap": null,
      "grid_row": null,
      "grid_template_areas": null,
      "grid_template_columns": null,
      "grid_template_rows": null,
      "height": null,
      "justify_content": null,
      "justify_items": null,
      "left": null,
      "margin": null,
      "max_height": null,
      "max_width": null,
      "min_height": null,
      "min_width": null,
      "object_fit": null,
      "object_position": null,
      "order": null,
      "overflow": null,
      "overflow_x": null,
      "overflow_y": null,
      "padding": null,
      "right": null,
      "top": null,
      "visibility": null,
      "width": null
     }
    },
    "353ee18148144a829aa8b499458a5f0e": {
     "model_module": "@jupyter-widgets/controls",
     "model_module_version": "1.5.0",
     "model_name": "DescriptionStyleModel",
     "state": {
      "_model_module": "@jupyter-widgets/controls",
      "_model_module_version": "1.5.0",
      "_model_name": "DescriptionStyleModel",
      "_view_count": null,
      "_view_module": "@jupyter-widgets/base",
      "_view_module_version": "1.2.0",
      "_view_name": "StyleView",
      "description_width": ""
     }
    },
    "3dcabad77cdf4b2dba7fab325c160130": {
     "model_module": "@jupyter-widgets/base",
     "model_module_version": "1.2.0",
     "model_name": "LayoutModel",
     "state": {
      "_model_module": "@jupyter-widgets/base",
      "_model_module_version": "1.2.0",
      "_model_name": "LayoutModel",
      "_view_count": null,
      "_view_module": "@jupyter-widgets/base",
      "_view_module_version": "1.2.0",
      "_view_name": "LayoutView",
      "align_content": null,
      "align_items": null,
      "align_self": null,
      "border": null,
      "bottom": null,
      "display": null,
      "flex": null,
      "flex_flow": null,
      "grid_area": null,
      "grid_auto_columns": null,
      "grid_auto_flow": null,
      "grid_auto_rows": null,
      "grid_column": null,
      "grid_gap": null,
      "grid_row": null,
      "grid_template_areas": null,
      "grid_template_columns": null,
      "grid_template_rows": null,
      "height": null,
      "justify_content": null,
      "justify_items": null,
      "left": null,
      "margin": null,
      "max_height": null,
      "max_width": null,
      "min_height": null,
      "min_width": null,
      "object_fit": null,
      "object_position": null,
      "order": null,
      "overflow": null,
      "overflow_x": null,
      "overflow_y": null,
      "padding": null,
      "right": null,
      "top": null,
      "visibility": null,
      "width": null
     }
    },
    "3e28499cbc3e4bcb84ed82d2f16ecb6d": {
     "model_module": "@jupyter-widgets/controls",
     "model_module_version": "1.5.0",
     "model_name": "DropdownModel",
     "state": {
      "_dom_classes": [],
      "_model_module": "@jupyter-widgets/controls",
      "_model_module_version": "1.5.0",
      "_model_name": "DropdownModel",
      "_options_labels": [
       "100",
       "500",
       "1000",
       "5000"
      ],
      "_view_count": null,
      "_view_module": "@jupyter-widgets/controls",
      "_view_module_version": "1.5.0",
      "_view_name": "DropdownView",
      "description": "Sequence Length",
      "description_tooltip": null,
      "disabled": false,
      "index": 2,
      "layout": "IPY_MODEL_b61b80ce405e404d9834e2327d931e36",
      "style": "IPY_MODEL_8c769bc905ae4f1cbcbe306b0cd2d67c"
     }
    },
    "40d9adfc823d4e4bad59d4667d87b501": {
     "model_module": "@jupyter-widgets/controls",
     "model_module_version": "1.5.0",
     "model_name": "HTMLModel",
     "state": {
      "_dom_classes": [],
      "_model_module": "@jupyter-widgets/controls",
      "_model_module_version": "1.5.0",
      "_model_name": "HTMLModel",
      "_view_count": null,
      "_view_module": "@jupyter-widgets/controls",
      "_view_module_version": "1.5.0",
      "_view_name": "HTMLView",
      "description": "",
      "description_tooltip": null,
      "layout": "IPY_MODEL_d6dd659360c3473c9278791e4c06ad44",
      "placeholder": "​",
      "style": "IPY_MODEL_502b9ebc1fc5440bbf8818a2b48adab2",
      "value": "Downloading (…)lve/main/config.json: 100%"
     }
    },
    "41eedea087254955acd15441dee7f264": {
     "model_module": "@jupyter-widgets/controls",
     "model_module_version": "1.5.0",
     "model_name": "DescriptionStyleModel",
     "state": {
      "_model_module": "@jupyter-widgets/controls",
      "_model_module_version": "1.5.0",
      "_model_name": "DescriptionStyleModel",
      "_view_count": null,
      "_view_module": "@jupyter-widgets/base",
      "_view_module_version": "1.2.0",
      "_view_name": "StyleView",
      "description_width": ""
     }
    },
    "502b9ebc1fc5440bbf8818a2b48adab2": {
     "model_module": "@jupyter-widgets/controls",
     "model_module_version": "1.5.0",
     "model_name": "DescriptionStyleModel",
     "state": {
      "_model_module": "@jupyter-widgets/controls",
      "_model_module_version": "1.5.0",
      "_model_name": "DescriptionStyleModel",
      "_view_count": null,
      "_view_module": "@jupyter-widgets/base",
      "_view_module_version": "1.2.0",
      "_view_name": "StyleView",
      "description_width": ""
     }
    },
    "50989141900d4d40bdf24b41aa00fe9a": {
     "model_module": "@jupyter-widgets/base",
     "model_module_version": "1.2.0",
     "model_name": "LayoutModel",
     "state": {
      "_model_module": "@jupyter-widgets/base",
      "_model_module_version": "1.2.0",
      "_model_name": "LayoutModel",
      "_view_count": null,
      "_view_module": "@jupyter-widgets/base",
      "_view_module_version": "1.2.0",
      "_view_name": "LayoutView",
      "align_content": null,
      "align_items": null,
      "align_self": null,
      "border": null,
      "bottom": null,
      "display": null,
      "flex": null,
      "flex_flow": null,
      "grid_area": null,
      "grid_auto_columns": null,
      "grid_auto_flow": null,
      "grid_auto_rows": null,
      "grid_column": null,
      "grid_gap": null,
      "grid_row": null,
      "grid_template_areas": null,
      "grid_template_columns": null,
      "grid_template_rows": null,
      "height": null,
      "justify_content": null,
      "justify_items": null,
      "left": null,
      "margin": null,
      "max_height": null,
      "max_width": null,
      "min_height": null,
      "min_width": null,
      "object_fit": null,
      "object_position": null,
      "order": null,
      "overflow": null,
      "overflow_x": null,
      "overflow_y": null,
      "padding": null,
      "right": null,
      "top": null,
      "visibility": null,
      "width": null
     }
    },
    "51cc1ad5285d448c9c701f9bdbaa8581": {
     "model_module": "@jupyter-widgets/controls",
     "model_module_version": "1.5.0",
     "model_name": "DescriptionStyleModel",
     "state": {
      "_model_module": "@jupyter-widgets/controls",
      "_model_module_version": "1.5.0",
      "_model_name": "DescriptionStyleModel",
      "_view_count": null,
      "_view_module": "@jupyter-widgets/base",
      "_view_module_version": "1.2.0",
      "_view_name": "StyleView",
      "description_width": ""
     }
    },
    "53bb33d9a63547adb382f207b1c73568": {
     "model_module": "@jupyter-widgets/base",
     "model_module_version": "1.2.0",
     "model_name": "LayoutModel",
     "state": {
      "_model_module": "@jupyter-widgets/base",
      "_model_module_version": "1.2.0",
      "_model_name": "LayoutModel",
      "_view_count": null,
      "_view_module": "@jupyter-widgets/base",
      "_view_module_version": "1.2.0",
      "_view_name": "LayoutView",
      "align_content": null,
      "align_items": null,
      "align_self": null,
      "border": null,
      "bottom": null,
      "display": null,
      "flex": null,
      "flex_flow": null,
      "grid_area": null,
      "grid_auto_columns": null,
      "grid_auto_flow": null,
      "grid_auto_rows": null,
      "grid_column": null,
      "grid_gap": null,
      "grid_row": null,
      "grid_template_areas": null,
      "grid_template_columns": null,
      "grid_template_rows": null,
      "height": null,
      "justify_content": null,
      "justify_items": null,
      "left": null,
      "margin": null,
      "max_height": null,
      "max_width": null,
      "min_height": null,
      "min_width": null,
      "object_fit": null,
      "object_position": null,
      "order": null,
      "overflow": null,
      "overflow_x": null,
      "overflow_y": null,
      "padding": null,
      "right": null,
      "top": null,
      "visibility": null,
      "width": null
     }
    },
    "53d33cd791664637a57f5f6a24bb06ab": {
     "model_module": "@jupyter-widgets/output",
     "model_module_version": "1.0.0",
     "model_name": "OutputModel",
     "state": {
      "_dom_classes": [],
      "_model_module": "@jupyter-widgets/output",
      "_model_module_version": "1.0.0",
      "_model_name": "OutputModel",
      "_view_count": null,
      "_view_module": "@jupyter-widgets/output",
      "_view_module_version": "1.0.0",
      "_view_name": "OutputView",
      "layout": "IPY_MODEL_621731465fd044a2bff255f072e632bb",
      "msg_id": "",
      "outputs": [
       {
        "data": {
         "image/png": "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\n",
         "text/plain": "<Figure size 800x250 with 2 Axes>"
        },
        "metadata": {},
        "output_type": "display_data"
       }
      ]
     }
    },
    "547a494a44e84b5990ad2056d508d47b": {
     "model_module": "@jupyter-widgets/controls",
     "model_module_version": "1.5.0",
     "model_name": "ProgressStyleModel",
     "state": {
      "_model_module": "@jupyter-widgets/controls",
      "_model_module_version": "1.5.0",
      "_model_name": "ProgressStyleModel",
      "_view_count": null,
      "_view_module": "@jupyter-widgets/base",
      "_view_module_version": "1.2.0",
      "_view_name": "StyleView",
      "bar_color": null,
      "description_width": ""
     }
    },
    "55cf3a8bab2c4b528b9c5fd5cbdbe496": {
     "model_module": "@jupyter-widgets/controls",
     "model_module_version": "1.5.0",
     "model_name": "DropdownModel",
     "state": {
      "_dom_classes": [],
      "_model_module": "@jupyter-widgets/controls",
      "_model_module_version": "1.5.0",
      "_model_name": "DropdownModel",
      "_options_labels": [
       "10",
       "15",
       "20",
       "30",
       "50",
       "100",
       "150",
       "300"
      ],
      "_view_count": null,
      "_view_module": "@jupyter-widgets/controls",
      "_view_module_version": "1.5.0",
      "_view_name": "DropdownView",
      "description": "Hidden Dimension:",
      "description_tooltip": null,
      "disabled": false,
      "index": 5,
      "layout": "IPY_MODEL_02637843f2944af9bea5051a7d94096d",
      "style": "IPY_MODEL_814d811c86da40bd8f37c046b5fb2578"
     }
    },
    "5763c642c0924ad2af27cef44ddce806": {
     "model_module": "@jupyter-widgets/base",
     "model_module_version": "1.2.0",
     "model_name": "LayoutModel",
     "state": {
      "_model_module": "@jupyter-widgets/base",
      "_model_module_version": "1.2.0",
      "_model_name": "LayoutModel",
      "_view_count": null,
      "_view_module": "@jupyter-widgets/base",
      "_view_module_version": "1.2.0",
      "_view_name": "LayoutView",
      "align_content": null,
      "align_items": null,
      "align_self": null,
      "border": null,
      "bottom": null,
      "display": null,
      "flex": null,
      "flex_flow": null,
      "grid_area": null,
      "grid_auto_columns": null,
      "grid_auto_flow": null,
      "grid_auto_rows": null,
      "grid_column": null,
      "grid_gap": null,
      "grid_row": null,
      "grid_template_areas": null,
      "grid_template_columns": null,
      "grid_template_rows": null,
      "height": null,
      "justify_content": null,
      "justify_items": null,
      "left": null,
      "margin": null,
      "max_height": null,
      "max_width": null,
      "min_height": null,
      "min_width": null,
      "object_fit": null,
      "object_position": null,
      "order": null,
      "overflow": null,
      "overflow_x": null,
      "overflow_y": null,
      "padding": null,
      "right": null,
      "top": null,
      "visibility": null,
      "width": null
     }
    },
    "5b9fbb05296a45d2a5dc9f0bce9c4b52": {
     "model_module": "@jupyter-widgets/base",
     "model_module_version": "1.2.0",
     "model_name": "LayoutModel",
     "state": {
      "_model_module": "@jupyter-widgets/base",
      "_model_module_version": "1.2.0",
      "_model_name": "LayoutModel",
      "_view_count": null,
      "_view_module": "@jupyter-widgets/base",
      "_view_module_version": "1.2.0",
      "_view_name": "LayoutView",
      "align_content": null,
      "align_items": null,
      "align_self": null,
      "border": null,
      "bottom": null,
      "display": null,
      "flex": null,
      "flex_flow": null,
      "grid_area": null,
      "grid_auto_columns": null,
      "grid_auto_flow": null,
      "grid_auto_rows": null,
      "grid_column": null,
      "grid_gap": null,
      "grid_row": null,
      "grid_template_areas": null,
      "grid_template_columns": null,
      "grid_template_rows": null,
      "height": null,
      "justify_content": null,
      "justify_items": null,
      "left": null,
      "margin": null,
      "max_height": null,
      "max_width": null,
      "min_height": null,
      "min_width": null,
      "object_fit": null,
      "object_position": null,
      "order": null,
      "overflow": null,
      "overflow_x": null,
      "overflow_y": null,
      "padding": null,
      "right": null,
      "top": null,
      "visibility": null,
      "width": null
     }
    },
    "5d48177069cc4de498a306a1268b9215": {
     "model_module": "@jupyter-widgets/base",
     "model_module_version": "1.2.0",
     "model_name": "LayoutModel",
     "state": {
      "_model_module": "@jupyter-widgets/base",
      "_model_module_version": "1.2.0",
      "_model_name": "LayoutModel",
      "_view_count": null,
      "_view_module": "@jupyter-widgets/base",
      "_view_module_version": "1.2.0",
      "_view_name": "LayoutView",
      "align_content": null,
      "align_items": null,
      "align_self": null,
      "border": null,
      "bottom": null,
      "display": null,
      "flex": null,
      "flex_flow": null,
      "grid_area": null,
      "grid_auto_columns": null,
      "grid_auto_flow": null,
      "grid_auto_rows": null,
      "grid_column": null,
      "grid_gap": null,
      "grid_row": null,
      "grid_template_areas": null,
      "grid_template_columns": null,
      "grid_template_rows": null,
      "height": null,
      "justify_content": null,
      "justify_items": null,
      "left": null,
      "margin": null,
      "max_height": null,
      "max_width": null,
      "min_height": null,
      "min_width": null,
      "object_fit": null,
      "object_position": null,
      "order": null,
      "overflow": null,
      "overflow_x": null,
      "overflow_y": null,
      "padding": null,
      "right": null,
      "top": null,
      "visibility": null,
      "width": null
     }
    },
    "621731465fd044a2bff255f072e632bb": {
     "model_module": "@jupyter-widgets/base",
     "model_module_version": "1.2.0",
     "model_name": "LayoutModel",
     "state": {
      "_model_module": "@jupyter-widgets/base",
      "_model_module_version": "1.2.0",
      "_model_name": "LayoutModel",
      "_view_count": null,
      "_view_module": "@jupyter-widgets/base",
      "_view_module_version": "1.2.0",
      "_view_name": "LayoutView",
      "align_content": null,
      "align_items": null,
      "align_self": null,
      "border": null,
      "bottom": null,
      "display": null,
      "flex": null,
      "flex_flow": null,
      "grid_area": null,
      "grid_auto_columns": null,
      "grid_auto_flow": null,
      "grid_auto_rows": null,
      "grid_column": null,
      "grid_gap": null,
      "grid_row": null,
      "grid_template_areas": null,
      "grid_template_columns": null,
      "grid_template_rows": null,
      "height": null,
      "justify_content": null,
      "justify_items": null,
      "left": null,
      "margin": null,
      "max_height": null,
      "max_width": null,
      "min_height": null,
      "min_width": null,
      "object_fit": null,
      "object_position": null,
      "order": null,
      "overflow": null,
      "overflow_x": null,
      "overflow_y": null,
      "padding": null,
      "right": null,
      "top": null,
      "visibility": null,
      "width": null
     }
    },
    "6637dead632641e3bb861d09aaa37673": {
     "model_module": "@jupyter-widgets/controls",
     "model_module_version": "1.5.0",
     "model_name": "FloatProgressModel",
     "state": {
      "_dom_classes": [],
      "_model_module": "@jupyter-widgets/controls",
      "_model_module_version": "1.5.0",
      "_model_name": "FloatProgressModel",
      "_view_count": null,
      "_view_module": "@jupyter-widgets/controls",
      "_view_module_version": "1.5.0",
      "_view_name": "ProgressView",
      "bar_style": "success",
      "description": "",
      "description_tooltip": null,
      "layout": "IPY_MODEL_9d4c2979086443cf95deb3b29d1089c6",
      "max": 167908,
      "min": 0,
      "orientation": "horizontal",
      "style": "IPY_MODEL_dafa2db7d7ec423cb5aa3a64c48b8e9d",
      "value": 167908
     }
    },
    "66fbe464c199401d8abe811ca6538174": {
     "model_module": "@jupyter-widgets/controls",
     "model_module_version": "1.5.0",
     "model_name": "DescriptionStyleModel",
     "state": {
      "_model_module": "@jupyter-widgets/controls",
      "_model_module_version": "1.5.0",
      "_model_name": "DescriptionStyleModel",
      "_view_count": null,
      "_view_module": "@jupyter-widgets/base",
      "_view_module_version": "1.2.0",
      "_view_name": "StyleView",
      "description_width": ""
     }
    },
    "7fd821bf69ef4910a71249d31bc18c81": {
     "model_module": "@jupyter-widgets/controls",
     "model_module_version": "1.5.0",
     "model_name": "HBoxModel",
     "state": {
      "_dom_classes": [],
      "_model_module": "@jupyter-widgets/controls",
      "_model_module_version": "1.5.0",
      "_model_name": "HBoxModel",
      "_view_count": null,
      "_view_module": "@jupyter-widgets/controls",
      "_view_module_version": "1.5.0",
      "_view_name": "HBoxView",
      "box_style": "",
      "children": [
       "IPY_MODEL_40d9adfc823d4e4bad59d4667d87b501",
       "IPY_MODEL_e8a03a4deef646c89b3c9914b0599b03",
       "IPY_MODEL_086c9c2352984ea6a26a27131c677d73"
      ],
      "layout": "IPY_MODEL_d595d14e5df749c7acd8ffa5223d341f"
     }
    },
    "814d811c86da40bd8f37c046b5fb2578": {
     "model_module": "@jupyter-widgets/controls",
     "model_module_version": "1.5.0",
     "model_name": "DescriptionStyleModel",
     "state": {
      "_model_module": "@jupyter-widgets/controls",
      "_model_module_version": "1.5.0",
      "_model_name": "DescriptionStyleModel",
      "_view_count": null,
      "_view_module": "@jupyter-widgets/base",
      "_view_module_version": "1.2.0",
      "_view_name": "StyleView",
      "description_width": "initial"
     }
    },
    "8c769bc905ae4f1cbcbe306b0cd2d67c": {
     "model_module": "@jupyter-widgets/controls",
     "model_module_version": "1.5.0",
     "model_name": "DescriptionStyleModel",
     "state": {
      "_model_module": "@jupyter-widgets/controls",
      "_model_module_version": "1.5.0",
      "_model_name": "DescriptionStyleModel",
      "_view_count": null,
      "_view_module": "@jupyter-widgets/base",
      "_view_module_version": "1.2.0",
      "_view_name": "StyleView",
      "description_width": "initial"
     }
    },
    "9369692ae1d444bbaed165ef90a49254": {
     "model_module": "@jupyter-widgets/controls",
     "model_module_version": "1.5.0",
     "model_name": "ProgressStyleModel",
     "state": {
      "_model_module": "@jupyter-widgets/controls",
      "_model_module_version": "1.5.0",
      "_model_name": "ProgressStyleModel",
      "_view_count": null,
      "_view_module": "@jupyter-widgets/base",
      "_view_module_version": "1.2.0",
      "_view_name": "StyleView",
      "bar_color": null,
      "description_width": ""
     }
    },
    "987c295acc7649c7ac3a9777c0eb5c42": {
     "model_module": "@jupyter-widgets/base",
     "model_module_version": "1.2.0",
     "model_name": "LayoutModel",
     "state": {
      "_model_module": "@jupyter-widgets/base",
      "_model_module_version": "1.2.0",
      "_model_name": "LayoutModel",
      "_view_count": null,
      "_view_module": "@jupyter-widgets/base",
      "_view_module_version": "1.2.0",
      "_view_name": "LayoutView",
      "align_content": null,
      "align_items": null,
      "align_self": null,
      "border": null,
      "bottom": null,
      "display": null,
      "flex": null,
      "flex_flow": null,
      "grid_area": null,
      "grid_auto_columns": null,
      "grid_auto_flow": null,
      "grid_auto_rows": null,
      "grid_column": null,
      "grid_gap": null,
      "grid_row": null,
      "grid_template_areas": null,
      "grid_template_columns": null,
      "grid_template_rows": null,
      "height": null,
      "justify_content": null,
      "justify_items": null,
      "left": null,
      "margin": null,
      "max_height": null,
      "max_width": null,
      "min_height": null,
      "min_width": null,
      "object_fit": null,
      "object_position": null,
      "order": null,
      "overflow": null,
      "overflow_x": null,
      "overflow_y": null,
      "padding": null,
      "right": null,
      "top": null,
      "visibility": null,
      "width": null
     }
    },
    "9cd86cbe740241c2a063886a091c5d78": {
     "model_module": "@jupyter-widgets/controls",
     "model_module_version": "1.5.0",
     "model_name": "HTMLModel",
     "state": {
      "_dom_classes": [],
      "_model_module": "@jupyter-widgets/controls",
      "_model_module_version": "1.5.0",
      "_model_name": "HTMLModel",
      "_view_count": null,
      "_view_module": "@jupyter-widgets/controls",
      "_view_module_version": "1.5.0",
      "_view_name": "HTMLView",
      "description": "",
      "description_tooltip": null,
      "layout": "IPY_MODEL_50989141900d4d40bdf24b41aa00fe9a",
      "placeholder": "​",
      "style": "IPY_MODEL_e4fd1e3995ce4553b936d29c98b9f53c",
      "value": " 168k/168k [00:00&lt;00:00, 2.13MB/s]"
     }
    },
    "9d4c2979086443cf95deb3b29d1089c6": {
     "model_module": "@jupyter-widgets/base",
     "model_module_version": "1.2.0",
     "model_name": "LayoutModel",
     "state": {
      "_model_module": "@jupyter-widgets/base",
      "_model_module_version": "1.2.0",
      "_model_name": "LayoutModel",
      "_view_count": null,
      "_view_module": "@jupyter-widgets/base",
      "_view_module_version": "1.2.0",
      "_view_name": "LayoutView",
      "align_content": null,
      "align_items": null,
      "align_self": null,
      "border": null,
      "bottom": null,
      "display": null,
      "flex": null,
      "flex_flow": null,
      "grid_area": null,
      "grid_auto_columns": null,
      "grid_auto_flow": null,
      "grid_auto_rows": null,
      "grid_column": null,
      "grid_gap": null,
      "grid_row": null,
      "grid_template_areas": null,
      "grid_template_columns": null,
      "grid_template_rows": null,
      "height": null,
      "justify_content": null,
      "justify_items": null,
      "left": null,
      "margin": null,
      "max_height": null,
      "max_width": null,
      "min_height": null,
      "min_width": null,
      "object_fit": null,
      "object_position": null,
      "order": null,
      "overflow": null,
      "overflow_x": null,
      "overflow_y": null,
      "padding": null,
      "right": null,
      "top": null,
      "visibility": null,
      "width": null
     }
    },
    "9e8c8998d52a4470832005647e2836f4": {
     "model_module": "@jupyter-widgets/controls",
     "model_module_version": "1.5.0",
     "model_name": "FloatProgressModel",
     "state": {
      "_dom_classes": [],
      "_model_module": "@jupyter-widgets/controls",
      "_model_module_version": "1.5.0",
      "_model_name": "FloatProgressModel",
      "_view_count": null,
      "_view_module": "@jupyter-widgets/controls",
      "_view_module_version": "1.5.0",
      "_view_name": "ProgressView",
      "bar_style": "success",
      "description": "",
      "description_tooltip": null,
      "layout": "IPY_MODEL_5d48177069cc4de498a306a1268b9215",
      "max": 468354983,
      "min": 0,
      "orientation": "horizontal",
      "style": "IPY_MODEL_547a494a44e84b5990ad2056d508d47b",
      "value": 468354983
     }
    },
    "a197bf7cb9764495bf3d9b2841e2ac43": {
     "model_module": "@jupyter-widgets/controls",
     "model_module_version": "1.5.0",
     "model_name": "HBoxModel",
     "state": {
      "_dom_classes": [],
      "_model_module": "@jupyter-widgets/controls",
      "_model_module_version": "1.5.0",
      "_model_name": "HBoxModel",
      "_view_count": null,
      "_view_module": "@jupyter-widgets/controls",
      "_view_module_version": "1.5.0",
      "_view_name": "HBoxView",
      "box_style": "",
      "children": [
       "IPY_MODEL_f718d61153f749d8b75ddad983ac851c",
       "IPY_MODEL_6637dead632641e3bb861d09aaa37673",
       "IPY_MODEL_9cd86cbe740241c2a063886a091c5d78"
      ],
      "layout": "IPY_MODEL_f0fc4ec74fa241868230c66af631ac56"
     }
    },
    "a8945a8a7d654f24bcf60451cfc5f1e6": {
     "model_module": "@jupyter-widgets/base",
     "model_module_version": "1.2.0",
     "model_name": "LayoutModel",
     "state": {
      "_model_module": "@jupyter-widgets/base",
      "_model_module_version": "1.2.0",
      "_model_name": "LayoutModel",
      "_view_count": null,
      "_view_module": "@jupyter-widgets/base",
      "_view_module_version": "1.2.0",
      "_view_name": "LayoutView",
      "align_content": null,
      "align_items": null,
      "align_self": null,
      "border": null,
      "bottom": null,
      "display": null,
      "flex": null,
      "flex_flow": null,
      "grid_area": null,
      "grid_auto_columns": null,
      "grid_auto_flow": null,
      "grid_auto_rows": null,
      "grid_column": null,
      "grid_gap": null,
      "grid_row": null,
      "grid_template_areas": null,
      "grid_template_columns": null,
      "grid_template_rows": null,
      "height": null,
      "justify_content": null,
      "justify_items": null,
      "left": null,
      "margin": null,
      "max_height": null,
      "max_width": null,
      "min_height": null,
      "min_width": null,
      "object_fit": null,
      "object_position": null,
      "order": null,
      "overflow": null,
      "overflow_x": null,
      "overflow_y": null,
      "padding": null,
      "right": null,
      "top": null,
      "visibility": null,
      "width": null
     }
    },
    "b61b80ce405e404d9834e2327d931e36": {
     "model_module": "@jupyter-widgets/base",
     "model_module_version": "1.2.0",
     "model_name": "LayoutModel",
     "state": {
      "_model_module": "@jupyter-widgets/base",
      "_model_module_version": "1.2.0",
      "_model_name": "LayoutModel",
      "_view_count": null,
      "_view_module": "@jupyter-widgets/base",
      "_view_module_version": "1.2.0",
      "_view_name": "LayoutView",
      "align_content": null,
      "align_items": null,
      "align_self": null,
      "border": null,
      "bottom": null,
      "display": null,
      "flex": null,
      "flex_flow": null,
      "grid_area": null,
      "grid_auto_columns": null,
      "grid_auto_flow": null,
      "grid_auto_rows": null,
      "grid_column": null,
      "grid_gap": null,
      "grid_row": null,
      "grid_template_areas": null,
      "grid_template_columns": null,
      "grid_template_rows": null,
      "height": null,
      "justify_content": null,
      "justify_items": null,
      "left": null,
      "margin": null,
      "max_height": null,
      "max_width": null,
      "min_height": null,
      "min_width": null,
      "object_fit": null,
      "object_position": null,
      "order": null,
      "overflow": null,
      "overflow_x": null,
      "overflow_y": null,
      "padding": null,
      "right": null,
      "top": null,
      "visibility": null,
      "width": null
     }
    },
    "be01a4731a4644a3a2b20c9474b592f9": {
     "model_module": "@jupyter-widgets/controls",
     "model_module_version": "1.5.0",
     "model_name": "HBoxModel",
     "state": {
      "_dom_classes": [],
      "_model_module": "@jupyter-widgets/controls",
      "_model_module_version": "1.5.0",
      "_model_name": "HBoxModel",
      "_view_count": null,
      "_view_module": "@jupyter-widgets/controls",
      "_view_module_version": "1.5.0",
      "_view_name": "HBoxView",
      "box_style": "",
      "children": [
       "IPY_MODEL_d31ae5f3c2364fbf996fd25f577860ad",
       "IPY_MODEL_fef5aa8989d24230b479827771e8c606",
       "IPY_MODEL_090909bdb33f4446a70de55f3e13bcbd"
      ],
      "layout": "IPY_MODEL_e8f744d3d7ab4c0c969b1e57bee9f09e"
     }
    },
    "be1966c3051e47ac9202121dc1660acd": {
     "model_module": "@jupyter-widgets/controls",
     "model_module_version": "1.5.0",
     "model_name": "HTMLModel",
     "state": {
      "_dom_classes": [],
      "_model_module": "@jupyter-widgets/controls",
      "_model_module_version": "1.5.0",
      "_model_name": "HTMLModel",
      "_view_count": null,
      "_view_module": "@jupyter-widgets/controls",
      "_view_module_version": "1.5.0",
      "_view_name": "HTMLView",
      "description": "",
      "description_tooltip": null,
      "layout": "IPY_MODEL_0be958c488394cb5b220ed2b32d0c155",
      "placeholder": "​",
      "style": "IPY_MODEL_66fbe464c199401d8abe811ca6538174",
      "value": "Downloading pytorch_model.bin: 100%"
     }
    },
    "c0d85c084b384d57887ab1ba09a1ae3d": {
     "model_module": "@jupyter-widgets/controls",
     "model_module_version": "1.5.0",
     "model_name": "DescriptionStyleModel",
     "state": {
      "_model_module": "@jupyter-widgets/controls",
      "_model_module_version": "1.5.0",
      "_model_name": "DescriptionStyleModel",
      "_view_count": null,
      "_view_module": "@jupyter-widgets/base",
      "_view_module_version": "1.2.0",
      "_view_name": "StyleView",
      "description_width": ""
     }
    },
    "c4f6d9eff5824373a3f22cc5fa2d4437": {
     "model_module": "@jupyter-widgets/base",
     "model_module_version": "1.2.0",
     "model_name": "LayoutModel",
     "state": {
      "_model_module": "@jupyter-widgets/base",
      "_model_module_version": "1.2.0",
      "_model_name": "LayoutModel",
      "_view_count": null,
      "_view_module": "@jupyter-widgets/base",
      "_view_module_version": "1.2.0",
      "_view_name": "LayoutView",
      "align_content": null,
      "align_items": null,
      "align_self": null,
      "border": null,
      "bottom": null,
      "display": null,
      "flex": null,
      "flex_flow": null,
      "grid_area": null,
      "grid_auto_columns": null,
      "grid_auto_flow": null,
      "grid_auto_rows": null,
      "grid_column": null,
      "grid_gap": null,
      "grid_row": null,
      "grid_template_areas": null,
      "grid_template_columns": null,
      "grid_template_rows": null,
      "height": null,
      "justify_content": null,
      "justify_items": null,
      "left": null,
      "margin": null,
      "max_height": null,
      "max_width": null,
      "min_height": null,
      "min_width": null,
      "object_fit": null,
      "object_position": null,
      "order": null,
      "overflow": null,
      "overflow_x": null,
      "overflow_y": null,
      "padding": null,
      "right": null,
      "top": null,
      "visibility": null,
      "width": null
     }
    },
    "d31ae5f3c2364fbf996fd25f577860ad": {
     "model_module": "@jupyter-widgets/controls",
     "model_module_version": "1.5.0",
     "model_name": "HTMLModel",
     "state": {
      "_dom_classes": [],
      "_model_module": "@jupyter-widgets/controls",
      "_model_module_version": "1.5.0",
      "_model_name": "HTMLModel",
      "_view_count": null,
      "_view_module": "@jupyter-widgets/controls",
      "_view_module_version": "1.5.0",
      "_view_name": "HTMLView",
      "description": "",
      "description_tooltip": null,
      "layout": "IPY_MODEL_dfcf13654d324c46a7085ebda4c8253c",
      "placeholder": "​",
      "style": "IPY_MODEL_51cc1ad5285d448c9c701f9bdbaa8581",
      "value": "Downloading (…)okenizer_config.json: 100%"
     }
    },
    "d595d14e5df749c7acd8ffa5223d341f": {
     "model_module": "@jupyter-widgets/base",
     "model_module_version": "1.2.0",
     "model_name": "LayoutModel",
     "state": {
      "_model_module": "@jupyter-widgets/base",
      "_model_module_version": "1.2.0",
      "_model_name": "LayoutModel",
      "_view_count": null,
      "_view_module": "@jupyter-widgets/base",
      "_view_module_version": "1.2.0",
      "_view_name": "LayoutView",
      "align_content": null,
      "align_items": null,
      "align_self": null,
      "border": null,
      "bottom": null,
      "display": null,
      "flex": null,
      "flex_flow": null,
      "grid_area": null,
      "grid_auto_columns": null,
      "grid_auto_flow": null,
      "grid_auto_rows": null,
      "grid_column": null,
      "grid_gap": null,
      "grid_row": null,
      "grid_template_areas": null,
      "grid_template_columns": null,
      "grid_template_rows": null,
      "height": null,
      "justify_content": null,
      "justify_items": null,
      "left": null,
      "margin": null,
      "max_height": null,
      "max_width": null,
      "min_height": null,
      "min_width": null,
      "object_fit": null,
      "object_position": null,
      "order": null,
      "overflow": null,
      "overflow_x": null,
      "overflow_y": null,
      "padding": null,
      "right": null,
      "top": null,
      "visibility": null,
      "width": null
     }
    },
    "d6dd659360c3473c9278791e4c06ad44": {
     "model_module": "@jupyter-widgets/base",
     "model_module_version": "1.2.0",
     "model_name": "LayoutModel",
     "state": {
      "_model_module": "@jupyter-widgets/base",
      "_model_module_version": "1.2.0",
      "_model_name": "LayoutModel",
      "_view_count": null,
      "_view_module": "@jupyter-widgets/base",
      "_view_module_version": "1.2.0",
      "_view_name": "LayoutView",
      "align_content": null,
      "align_items": null,
      "align_self": null,
      "border": null,
      "bottom": null,
      "display": null,
      "flex": null,
      "flex_flow": null,
      "grid_area": null,
      "grid_auto_columns": null,
      "grid_auto_flow": null,
      "grid_auto_rows": null,
      "grid_column": null,
      "grid_gap": null,
      "grid_row": null,
      "grid_template_areas": null,
      "grid_template_columns": null,
      "grid_template_rows": null,
      "height": null,
      "justify_content": null,
      "justify_items": null,
      "left": null,
      "margin": null,
      "max_height": null,
      "max_width": null,
      "min_height": null,
      "min_width": null,
      "object_fit": null,
      "object_position": null,
      "order": null,
      "overflow": null,
      "overflow_x": null,
      "overflow_y": null,
      "padding": null,
      "right": null,
      "top": null,
      "visibility": null,
      "width": null
     }
    },
    "d7954114ae224f2bafde947662a5b5c3": {
     "model_module": "@jupyter-widgets/controls",
     "model_module_version": "1.5.0",
     "model_name": "DescriptionStyleModel",
     "state": {
      "_model_module": "@jupyter-widgets/controls",
      "_model_module_version": "1.5.0",
      "_model_name": "DescriptionStyleModel",
      "_view_count": null,
      "_view_module": "@jupyter-widgets/base",
      "_view_module_version": "1.2.0",
      "_view_name": "StyleView",
      "description_width": ""
     }
    },
    "dafa2db7d7ec423cb5aa3a64c48b8e9d": {
     "model_module": "@jupyter-widgets/controls",
     "model_module_version": "1.5.0",
     "model_name": "ProgressStyleModel",
     "state": {
      "_model_module": "@jupyter-widgets/controls",
      "_model_module_version": "1.5.0",
      "_model_name": "ProgressStyleModel",
      "_view_count": null,
      "_view_module": "@jupyter-widgets/base",
      "_view_module_version": "1.2.0",
      "_view_name": "StyleView",
      "bar_color": null,
      "description_width": ""
     }
    },
    "db9ba85eee0d425693c9c1ddbed0a333": {
     "model_module": "@jupyter-widgets/controls",
     "model_module_version": "1.5.0",
     "model_name": "HBoxModel",
     "state": {
      "_dom_classes": [],
      "_model_module": "@jupyter-widgets/controls",
      "_model_module_version": "1.5.0",
      "_model_name": "HBoxModel",
      "_view_count": null,
      "_view_module": "@jupyter-widgets/controls",
      "_view_module_version": "1.5.0",
      "_view_name": "HBoxView",
      "box_style": "",
      "children": [
       "IPY_MODEL_3e28499cbc3e4bcb84ed82d2f16ecb6d",
       "IPY_MODEL_55cf3a8bab2c4b528b9c5fd5cbdbe496"
      ],
      "layout": "IPY_MODEL_987c295acc7649c7ac3a9777c0eb5c42"
     }
    },
    "dfcf13654d324c46a7085ebda4c8253c": {
     "model_module": "@jupyter-widgets/base",
     "model_module_version": "1.2.0",
     "model_name": "LayoutModel",
     "state": {
      "_model_module": "@jupyter-widgets/base",
      "_model_module_version": "1.2.0",
      "_model_name": "LayoutModel",
      "_view_count": null,
      "_view_module": "@jupyter-widgets/base",
      "_view_module_version": "1.2.0",
      "_view_name": "LayoutView",
      "align_content": null,
      "align_items": null,
      "align_self": null,
      "border": null,
      "bottom": null,
      "display": null,
      "flex": null,
      "flex_flow": null,
      "grid_area": null,
      "grid_auto_columns": null,
      "grid_auto_flow": null,
      "grid_auto_rows": null,
      "grid_column": null,
      "grid_gap": null,
      "grid_row": null,
      "grid_template_areas": null,
      "grid_template_columns": null,
      "grid_template_rows": null,
      "height": null,
      "justify_content": null,
      "justify_items": null,
      "left": null,
      "margin": null,
      "max_height": null,
      "max_width": null,
      "min_height": null,
      "min_width": null,
      "object_fit": null,
      "object_position": null,
      "order": null,
      "overflow": null,
      "overflow_x": null,
      "overflow_y": null,
      "padding": null,
      "right": null,
      "top": null,
      "visibility": null,
      "width": null
     }
    },
    "e4fd1e3995ce4553b936d29c98b9f53c": {
     "model_module": "@jupyter-widgets/controls",
     "model_module_version": "1.5.0",
     "model_name": "DescriptionStyleModel",
     "state": {
      "_model_module": "@jupyter-widgets/controls",
      "_model_module_version": "1.5.0",
      "_model_name": "DescriptionStyleModel",
      "_view_count": null,
      "_view_module": "@jupyter-widgets/base",
      "_view_module_version": "1.2.0",
      "_view_name": "StyleView",
      "description_width": ""
     }
    },
    "e7349e4a81d8434781a5bc1b94bb6e61": {
     "model_module": "@jupyter-widgets/controls",
     "model_module_version": "1.5.0",
     "model_name": "ProgressStyleModel",
     "state": {
      "_model_module": "@jupyter-widgets/controls",
      "_model_module_version": "1.5.0",
      "_model_name": "ProgressStyleModel",
      "_view_count": null,
      "_view_module": "@jupyter-widgets/base",
      "_view_module_version": "1.2.0",
      "_view_name": "StyleView",
      "bar_color": null,
      "description_width": ""
     }
    },
    "e8a03a4deef646c89b3c9914b0599b03": {
     "model_module": "@jupyter-widgets/controls",
     "model_module_version": "1.5.0",
     "model_name": "FloatProgressModel",
     "state": {
      "_dom_classes": [],
      "_model_module": "@jupyter-widgets/controls",
      "_model_module_version": "1.5.0",
      "_model_name": "FloatProgressModel",
      "_view_count": null,
      "_view_module": "@jupyter-widgets/controls",
      "_view_module_version": "1.5.0",
      "_view_name": "ProgressView",
      "bar_style": "success",
      "description": "",
      "description_tooltip": null,
      "layout": "IPY_MODEL_a8945a8a7d654f24bcf60451cfc5f1e6",
      "max": 862,
      "min": 0,
      "orientation": "horizontal",
      "style": "IPY_MODEL_e7349e4a81d8434781a5bc1b94bb6e61",
      "value": 862
     }
    },
    "e8f744d3d7ab4c0c969b1e57bee9f09e": {
     "model_module": "@jupyter-widgets/base",
     "model_module_version": "1.2.0",
     "model_name": "LayoutModel",
     "state": {
      "_model_module": "@jupyter-widgets/base",
      "_model_module_version": "1.2.0",
      "_model_name": "LayoutModel",
      "_view_count": null,
      "_view_module": "@jupyter-widgets/base",
      "_view_module_version": "1.2.0",
      "_view_name": "LayoutView",
      "align_content": null,
      "align_items": null,
      "align_self": null,
      "border": null,
      "bottom": null,
      "display": null,
      "flex": null,
      "flex_flow": null,
      "grid_area": null,
      "grid_auto_columns": null,
      "grid_auto_flow": null,
      "grid_auto_rows": null,
      "grid_column": null,
      "grid_gap": null,
      "grid_row": null,
      "grid_template_areas": null,
      "grid_template_columns": null,
      "grid_template_rows": null,
      "height": null,
      "justify_content": null,
      "justify_items": null,
      "left": null,
      "margin": null,
      "max_height": null,
      "max_width": null,
      "min_height": null,
      "min_width": null,
      "object_fit": null,
      "object_position": null,
      "order": null,
      "overflow": null,
      "overflow_x": null,
      "overflow_y": null,
      "padding": null,
      "right": null,
      "top": null,
      "visibility": null,
      "width": null
     }
    },
    "f0fc4ec74fa241868230c66af631ac56": {
     "model_module": "@jupyter-widgets/base",
     "model_module_version": "1.2.0",
     "model_name": "LayoutModel",
     "state": {
      "_model_module": "@jupyter-widgets/base",
      "_model_module_version": "1.2.0",
      "_model_name": "LayoutModel",
      "_view_count": null,
      "_view_module": "@jupyter-widgets/base",
      "_view_module_version": "1.2.0",
      "_view_name": "LayoutView",
      "align_content": null,
      "align_items": null,
      "align_self": null,
      "border": null,
      "bottom": null,
      "display": null,
      "flex": null,
      "flex_flow": null,
      "grid_area": null,
      "grid_auto_columns": null,
      "grid_auto_flow": null,
      "grid_auto_rows": null,
      "grid_column": null,
      "grid_gap": null,
      "grid_row": null,
      "grid_template_areas": null,
      "grid_template_columns": null,
      "grid_template_rows": null,
      "height": null,
      "justify_content": null,
      "justify_items": null,
      "left": null,
      "margin": null,
      "max_height": null,
      "max_width": null,
      "min_height": null,
      "min_width": null,
      "object_fit": null,
      "object_position": null,
      "order": null,
      "overflow": null,
      "overflow_x": null,
      "overflow_y": null,
      "padding": null,
      "right": null,
      "top": null,
      "visibility": null,
      "width": null
     }
    },
    "f4569a481830469d8ec19f905c8817bd": {
     "model_module": "@jupyter-widgets/controls",
     "model_module_version": "1.5.0",
     "model_name": "HBoxModel",
     "state": {
      "_dom_classes": [],
      "_model_module": "@jupyter-widgets/controls",
      "_model_module_version": "1.5.0",
      "_model_name": "HBoxModel",
      "_view_count": null,
      "_view_module": "@jupyter-widgets/controls",
      "_view_module_version": "1.5.0",
      "_view_name": "HBoxView",
      "box_style": "",
      "children": [
       "IPY_MODEL_be1966c3051e47ac9202121dc1660acd",
       "IPY_MODEL_9e8c8998d52a4470832005647e2836f4",
       "IPY_MODEL_1fd93ce3f48b4f679038cdb895c712cf"
      ],
      "layout": "IPY_MODEL_c4f6d9eff5824373a3f22cc5fa2d4437"
     }
    },
    "f718d61153f749d8b75ddad983ac851c": {
     "model_module": "@jupyter-widgets/controls",
     "model_module_version": "1.5.0",
     "model_name": "HTMLModel",
     "state": {
      "_dom_classes": [],
      "_model_module": "@jupyter-widgets/controls",
      "_model_module_version": "1.5.0",
      "_model_name": "HTMLModel",
      "_view_count": null,
      "_view_module": "@jupyter-widgets/controls",
      "_view_module_version": "1.5.0",
      "_view_name": "HTMLView",
      "description": "",
      "description_tooltip": null,
      "layout": "IPY_MODEL_342ddc8b488940b09f2ae4f03bf9eeb0",
      "placeholder": "​",
      "style": "IPY_MODEL_c0d85c084b384d57887ab1ba09a1ae3d",
      "value": "Downloading (…)/main/tokenizer.json: 100%"
     }
    },
    "fef5aa8989d24230b479827771e8c606": {
     "model_module": "@jupyter-widgets/controls",
     "model_module_version": "1.5.0",
     "model_name": "FloatProgressModel",
     "state": {
      "_dom_classes": [],
      "_model_module": "@jupyter-widgets/controls",
      "_model_module_version": "1.5.0",
      "_model_name": "FloatProgressModel",
      "_view_count": null,
      "_view_module": "@jupyter-widgets/controls",
      "_view_module_version": "1.5.0",
      "_view_name": "ProgressView",
      "bar_style": "success",
      "description": "",
      "description_tooltip": null,
      "layout": "IPY_MODEL_5763c642c0924ad2af27cef44ddce806",
      "max": 158,
      "min": 0,
      "orientation": "horizontal",
      "style": "IPY_MODEL_9369692ae1d444bbaed165ef90a49254",
      "value": 158
     }
    }
   }
  }
 },
 "nbformat": 4,
 "nbformat_minor": 4
}
